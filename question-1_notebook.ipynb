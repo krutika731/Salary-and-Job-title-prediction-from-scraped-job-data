{
 "cells": [
  {
   "cell_type": "markdown",
   "metadata": {},
   "source": [
    "### Predecting salary\n",
    "\n",
    "-  Here we are trying to predict the salary from the given information like job title, location ,company, job description.\n",
    "-  For this we are using the cleaned data scraped from Indeed and seek\n",
    "-  After that we are applying multiple classification models to see which model give better predicition and can be more generalised.\n",
    "\n",
    "Here are we are predicting salary as a classificaiton problem having three class High, Medium and low. We converted salary data\n",
    "into three class based on certain condition."
   ]
  },
  {
   "cell_type": "code",
   "execution_count": 1079,
   "metadata": {},
   "outputs": [],
   "source": [
    "import re\n",
    "import itertools\n",
    "\n",
    "from sklearn.feature_extraction.text import TfidfVectorizer\n",
    "from sklearn.feature_extraction.text import CountVectorizer\n",
    "\n",
    "\n",
    "\n",
    "from sklearn.metrics import silhouette_score,confusion_matrix,classification_report\n",
    "\n",
    "\n",
    "from sklearn.utils import resample\n",
    "\n",
    "\n",
    "from sklearn.model_selection import train_test_split,GridSearchCV,cross_val_score\n",
    "from sklearn.linear_model import LogisticRegression,LogisticRegressionCV\n",
    "from sklearn.svm import SVC\n",
    "from sklearn.ensemble import RandomForestClassifier,BaggingClassifier,ExtraTreesClassifier\n",
    "\n",
    "from nltk.stem import PorterStemmer\n",
    "from nltk.tokenize import word_tokenize\n",
    "from nltk.stem import WordNetLemmatizer\n",
    "from nltk.corpus import stopwords\n",
    "\n",
    "import numpy as np\n",
    "import pandas as pd\n",
    "\n",
    "from sklearn.preprocessing import StandardScaler\n",
    "from sklearn.decomposition import PCA,TruncatedSVD\n",
    "\n",
    "\n",
    "\n",
    "from sklearn import metrics\n",
    "\n",
    "import matplotlib.pyplot as plt\n",
    "import seaborn as sns\n",
    "import warnings\n",
    "warnings.simplefilter(action='ignore')"
   ]
  },
  {
   "cell_type": "markdown",
   "metadata": {},
   "source": [
    "#### Import data file"
   ]
  },
  {
   "cell_type": "code",
   "execution_count": 1080,
   "metadata": {},
   "outputs": [],
   "source": [
    "data_file = './data/cleaned_job_data'"
   ]
  },
  {
   "cell_type": "code",
   "execution_count": 1081,
   "metadata": {},
   "outputs": [],
   "source": [
    "df_job_data = pd.read_csv(data_file)"
   ]
  },
  {
   "cell_type": "code",
   "execution_count": 1082,
   "metadata": {},
   "outputs": [],
   "source": [
    "df_job_data.drop(['Unnamed: 0'],axis=1,inplace=True)"
   ]
  },
  {
   "cell_type": "code",
   "execution_count": 1083,
   "metadata": {},
   "outputs": [
    {
     "data": {
      "text/plain": [
       "(1856, 5)"
      ]
     },
     "execution_count": 1083,
     "metadata": {},
     "output_type": "execute_result"
    }
   ],
   "source": [
    "df_job_data.shape"
   ]
  },
  {
   "cell_type": "markdown",
   "metadata": {},
   "source": [
    "#### Working on all those data that has salary information"
   ]
  },
  {
   "cell_type": "code",
   "execution_count": 1084,
   "metadata": {},
   "outputs": [],
   "source": [
    "df_salary_data = df_job_data[df_job_data['salary'].notnull()]"
   ]
  },
  {
   "cell_type": "code",
   "execution_count": 1085,
   "metadata": {},
   "outputs": [
    {
     "data": {
      "text/plain": [
       "(440, 5)"
      ]
     },
     "execution_count": 1085,
     "metadata": {},
     "output_type": "execute_result"
    }
   ],
   "source": [
    "df_salary_data.shape"
   ]
  },
  {
   "cell_type": "code",
   "execution_count": 1086,
   "metadata": {},
   "outputs": [],
   "source": [
    "df_salary_data.drop(df_salary_data[df_salary_data['job_desc'].isnull()].index,inplace=True)"
   ]
  },
  {
   "cell_type": "code",
   "execution_count": 1087,
   "metadata": {},
   "outputs": [
    {
     "data": {
      "text/plain": [
       "(438, 5)"
      ]
     },
     "execution_count": 1087,
     "metadata": {},
     "output_type": "execute_result"
    }
   ],
   "source": [
    "df_salary_data.shape"
   ]
  },
  {
   "cell_type": "code",
   "execution_count": 1088,
   "metadata": {},
   "outputs": [],
   "source": [
    "#drop all the salaries having 0 vlaues and salaries >200000\n",
    "df_salary_data.drop(df_salary_data[df_salary_data['salary']==0.0].index,inplace=True)\n",
    "df_salary_data.drop(df_salary_data['salary'][df_salary_data['salary'].apply(lambda x: len(str(x).split('.',1)[0])>7)].index,inplace=True)\n",
    "df_salary_data.drop(df_salary_data['salary'][df_salary_data['salary'].apply(lambda x: len(str(x).split('.',1)[0])<5)].index,inplace=True)\n",
    "df_salary_data.drop(df_salary_data[df_salary_data['salary']>200000].index,inplace=True)"
   ]
  },
  {
   "cell_type": "code",
   "execution_count": 1089,
   "metadata": {},
   "outputs": [
    {
     "data": {
      "text/plain": [
       "(360, 5)"
      ]
     },
     "execution_count": 1089,
     "metadata": {},
     "output_type": "execute_result"
    }
   ],
   "source": [
    "df_salary_data.shape"
   ]
  },
  {
   "cell_type": "code",
   "execution_count": 1090,
   "metadata": {},
   "outputs": [],
   "source": [
    "#function to classify salary as High, Medium and low\n",
    "def categorize_salary(salary):\n",
    "    if salary <= 70000:\n",
    "           return 'Low'\n",
    "    elif (salary > 70000) & (salary  <= 100000):\n",
    "        return 'Medium'\n",
    "    else:\n",
    "        return 'High'"
   ]
  },
  {
   "cell_type": "code",
   "execution_count": 1091,
   "metadata": {},
   "outputs": [],
   "source": [
    "df_salary_data['salary'] = df_salary_data['salary'].apply(lambda x: str(x))"
   ]
  },
  {
   "cell_type": "code",
   "execution_count": 1093,
   "metadata": {},
   "outputs": [],
   "source": [
    "df_salary_data['salary'] = df_salary_data['salary'].apply(lambda x: categorize_salary(float(x)))"
   ]
  },
  {
   "cell_type": "code",
   "execution_count": 1094,
   "metadata": {},
   "outputs": [
    {
     "data": {
      "text/plain": [
       "High      0.683333\n",
       "Medium    0.255556\n",
       "Low       0.061111\n",
       "Name: salary, dtype: float64"
      ]
     },
     "execution_count": 1094,
     "metadata": {},
     "output_type": "execute_result"
    }
   ],
   "source": [
    "#baseline\n",
    "df_salary_data['salary'].value_counts(normalize=True)"
   ]
  },
  {
   "cell_type": "markdown",
   "metadata": {},
   "source": [
    "#### Trying to predict salary only with titles"
   ]
  },
  {
   "cell_type": "code",
   "execution_count": 1095,
   "metadata": {},
   "outputs": [],
   "source": [
    "#Function to lemetize titles and description\n",
    "def lemmatize_data(data):\n",
    "    lemmatizer = WordNetLemmatizer()\n",
    "    data = re.sub(r'[0-9]', '', data, flags=re.I)\n",
    "    lem_verb = ' '.join([lemmatizer.lemmatize(each_word, pos='v') for each_word in word_tokenize(data)])\n",
    "    lem_noun = ' '.join([lemmatizer.lemmatize(each_word, pos='n') for each_word in word_tokenize(lem_verb)])\n",
    "    return lem_noun"
   ]
  },
  {
   "cell_type": "code",
   "execution_count": 1096,
   "metadata": {},
   "outputs": [],
   "source": [
    "X_titles = df_salary_data['job_title'].apply(lambda x:lemmatize_data(x))"
   ]
  },
  {
   "cell_type": "code",
   "execution_count": 1097,
   "metadata": {},
   "outputs": [
    {
     "data": {
      "text/plain": [
       "(360,)"
      ]
     },
     "execution_count": 1097,
     "metadata": {},
     "output_type": "execute_result"
    }
   ],
   "source": [
    "X_titles.shape"
   ]
  },
  {
   "cell_type": "code",
   "execution_count": 1098,
   "metadata": {},
   "outputs": [],
   "source": [
    "#defining custom stop words of Tfidf\n",
    "custom_stop_words = ['cbd','sydney','role','risk','specialist','vpsg','company','program','multiple','process']"
   ]
  },
  {
   "cell_type": "code",
   "execution_count": 1099,
   "metadata": {},
   "outputs": [],
   "source": [
    "stopwords = stopwords.words('english')\n",
    "stopwords.extend(custom_stop_words)"
   ]
  },
  {
   "cell_type": "code",
   "execution_count": 1100,
   "metadata": {},
   "outputs": [],
   "source": [
    "#define a funciton to generate tfidf vector from text data\n",
    "def create_tfidf_vec(data):\n",
    "    tfidf = TfidfVectorizer(stop_words=stopwords,max_df=8,min_df=2,sublinear_tf=True,ngram_range=(1,2))\n",
    "    tfidf.fit(data)\n",
    "    X_vec = pd.DataFrame(tfidf.transform(data).todense(), columns=tfidf.get_feature_names())\n",
    "    return X_vec"
   ]
  },
  {
   "cell_type": "code",
   "execution_count": 1101,
   "metadata": {},
   "outputs": [],
   "source": [
    "X_titles_vec = create_tfidf_vec(X_titles)"
   ]
  },
  {
   "cell_type": "code",
   "execution_count": 1102,
   "metadata": {},
   "outputs": [
    {
     "data": {
      "text/plain": [
       "(360, 213)"
      ]
     },
     "execution_count": 1102,
     "metadata": {},
     "output_type": "execute_result"
    }
   ],
   "source": [
    "X_titles_vec.shape"
   ]
  },
  {
   "cell_type": "code",
   "execution_count": 1103,
   "metadata": {
    "collapsed": true
   },
   "outputs": [
    {
     "data": {
      "text/plain": [
       "business systems           6.523104\n",
       "reporting analyst          6.263547\n",
       "data scientist             5.855561\n",
       "database                   5.726878\n",
       "analytics                  5.263839\n",
       "intelligence analyst       4.701686\n",
       "ict                        4.438883\n",
       "dba                        4.122433\n",
       "lead business              3.944307\n",
       "analyst data               3.932751\n",
       "java                       3.897045\n",
       "junior business            3.874641\n",
       "ict business               3.826435\n",
       "operations                 3.768051\n",
       "architect                  3.711463\n",
       "senior data                3.553896\n",
       "integration                3.530434\n",
       "cloud                      3.461529\n",
       "analyst business           3.389224\n",
       "full                       3.361266\n",
       "officer                    3.273420\n",
       "technology                 3.247984\n",
       "salesforce                 3.172611\n",
       "financial                  3.171550\n",
       "application                3.155452\n",
       "sql developer              3.151823\n",
       "insights analyst           3.141298\n",
       "insights                   3.141298\n",
       "bi developer               3.002067\n",
       "senior software            2.978433\n",
       "                             ...   \n",
       "junior data                1.850155\n",
       "security                   1.849344\n",
       "melbourne                  1.842073\n",
       "marketing                  1.838635\n",
       "data modeller              1.833173\n",
       "modeller                   1.833173\n",
       "support analyst            1.762009\n",
       "systems administrator      1.738951\n",
       "management                 1.726397\n",
       "operations analyst         1.725474\n",
       "retail                     1.724885\n",
       "planning                   1.691565\n",
       "development                1.612831\n",
       "fintech                    1.611074\n",
       "intelligence consultant    1.586907\n",
       "node                       1.586907\n",
       "consolidation              1.577350\n",
       "snr                        1.569714\n",
       "data analytics             1.553926\n",
       "front end                  1.553731\n",
       "front                      1.553731\n",
       "javascript                 1.550283\n",
       "ssis                       1.545030\n",
       "data architect             1.538503\n",
       "sap                        1.517867\n",
       "cloud data                 1.501210\n",
       "data business              1.485446\n",
       "pl sql                     1.454149\n",
       "pl                         1.454149\n",
       "data migration             1.449770\n",
       "Length: 100, dtype: float64"
      ]
     },
     "execution_count": 1103,
     "metadata": {},
     "output_type": "execute_result"
    }
   ],
   "source": [
    "#use this information to create your own custom words list. remove all the words that are not giving much information by adding them\n",
    "#to stop words\n",
    "#This are the top wordsin each document\n",
    "word_counts = X_titles_vec.sum(axis=0)\n",
    "word_counts.sort_values(ascending = False).head(100)"
   ]
  },
  {
   "cell_type": "code",
   "execution_count": 1104,
   "metadata": {},
   "outputs": [],
   "source": [
    "#generate test-train split\n",
    "def create_test_train_split(X,y):\n",
    "    X_train,X_test,y_train,y_test = train_test_split(X,y,random_state=43,test_size=0.33,shuffle=True)\n",
    "    return X_train,X_test,y_train,y_test"
   ]
  },
  {
   "cell_type": "code",
   "execution_count": 1105,
   "metadata": {},
   "outputs": [],
   "source": [
    "#define a funciton to generate different model results and return test and train score and also cross validated test train score\n",
    "def generate_model_result(model_obj,X,y):\n",
    "    X_train,X_test,y_train,y_test = create_test_train_split(X,y)\n",
    "#    print(X_train.shape,X_test.shape,y_train.shape,y_test.shape)\n",
    "    model = model_obj.fit(X_train,y_train)\n",
    "    training_score = model.score(X_train,y_train)\n",
    "    testing_score = model.score(X_test,y_test)\n",
    "    cv_train_score = np.mean(cross_val_score(model,X_train,y_train,cv=5,n_jobs=3))\n",
    "    cv_test_score = np.mean(cross_val_score(model,X_test,y_test,cv=5,n_jobs=3))\n",
    "    y_pred = model.predict(X_test)\n",
    "    return training_score,testing_score,cv_train_score,cv_test_score,y_pred,y_test"
   ]
  },
  {
   "cell_type": "code",
   "execution_count": 1106,
   "metadata": {},
   "outputs": [],
   "source": [
    "#lr = LogisticRegression(penalty='l2',C=0.5 , random_state=47, n_jobs=3)\n",
    "# Logistic regression  model on job titles to predict salary\n",
    "lr = LogisticRegression(penalty='l2',C=0.1 , random_state=47, n_jobs=3)\n"
   ]
  },
  {
   "cell_type": "code",
   "execution_count": 1107,
   "metadata": {},
   "outputs": [],
   "source": [
    "#calling generate model funciton\n",
    "training_score , testing_score ,cv_train_score,cv_test_score,y_pred,y_test = generate_model_result(lr,X_titles_vec,df_salary_data['salary'])"
   ]
  },
  {
   "cell_type": "code",
   "execution_count": 1108,
   "metadata": {},
   "outputs": [
    {
     "data": {
      "text/plain": [
       "(0.6804979253112033,\n",
       " 0.6890756302521008,\n",
       " 0.6807120674356699,\n",
       " 0.6899183135704876)"
      ]
     },
     "execution_count": 1108,
     "metadata": {},
     "output_type": "execute_result"
    }
   ],
   "source": [
    "#model result\n",
    "training_score , testing_score ,cv_train_score,cv_test_score"
   ]
  },
  {
   "cell_type": "code",
   "execution_count": 1109,
   "metadata": {},
   "outputs": [],
   "source": [
    "#define function to generate classificaiotn report\n",
    "def genrate_classificatoin_report(y_test,y_pred):\n",
    "    print(classification_report(y_test,y_pred))"
   ]
  },
  {
   "cell_type": "code",
   "execution_count": 1110,
   "metadata": {},
   "outputs": [
    {
     "name": "stdout",
     "output_type": "stream",
     "text": [
      "              precision    recall  f1-score   support\n",
      "\n",
      "        High       0.69      1.00      0.82        82\n",
      "         Low       0.00      0.00      0.00         3\n",
      "      Medium       0.00      0.00      0.00        34\n",
      "\n",
      "   micro avg       0.69      0.69      0.69       119\n",
      "   macro avg       0.23      0.33      0.27       119\n",
      "weighted avg       0.47      0.69      0.56       119\n",
      "\n"
     ]
    }
   ],
   "source": [
    "genrate_classificatoin_report(y_test,y_pred)"
   ]
  },
  {
   "cell_type": "code",
   "execution_count": 1111,
   "metadata": {},
   "outputs": [],
   "source": [
    "#define a funciton to create confusion matrix\n",
    "def generate_confusion_matrix(y_test,y_pred):\n",
    "    class_names=['High','Low','Medium'] \n",
    "    cnf_matrix = metrics.confusion_matrix(y_test, y_pred)\n",
    "\n",
    "    fig, ax = plt.subplots()\n",
    "\n",
    "    sns.heatmap(pd.DataFrame(cnf_matrix,columns=['High','Low','Medium'],index=['High','Low','Medium']), annot=True, cmap=\"YlGnBu\" ,fmt='g')\n",
    "    ax.xaxis.set_label_position(\"top\")\n",
    "    plt.tight_layout()\n",
    "    plt.title('Confusion matrix', y=1.1)\n",
    "    plt.ylabel('Actual label')\n",
    "    plt.xlabel('Predicted label')"
   ]
  },
  {
   "cell_type": "code",
   "execution_count": 1112,
   "metadata": {},
   "outputs": [
    {
     "data": {
      "image/png": "[encoded data removed]",
      "text/plain": [
       "<Figure size 432x288 with 2 Axes>"
      ]
     },
     "metadata": {
      "needs_background": "light"
     },
     "output_type": "display_data"
    }
   ],
   "source": [
    "generate_confusion_matrix(y_test,y_pred)"
   ]
  },
  {
   "cell_type": "markdown",
   "metadata": {},
   "source": [
    "### Class Imbalance\n",
    "\n",
    "- Above we can see that we have class imbalance and because of that our model is not performing good.\n",
    "- To remove this class imbalance and to improve the performance we can resample the class that has lowe counts\n",
    "- In our case we will resample Medium and Low class"
   ]
  },
  {
   "cell_type": "code",
   "execution_count": 387,
   "metadata": {},
   "outputs": [
    {
     "data": {
      "text/plain": [
       "High      246\n",
       "Medium     92\n",
       "Low        22\n",
       "Name: salary, dtype: int64"
      ]
     },
     "execution_count": 387,
     "metadata": {},
     "output_type": "execute_result"
    }
   ],
   "source": [
    "df_salary_data['salary'].value_counts()"
   ]
  },
  {
   "cell_type": "code",
   "execution_count": 1123,
   "metadata": {},
   "outputs": [],
   "source": [
    "#function to resample class\n",
    "def upsample_class(df_salary_data):\n",
    "    df_low = df_salary_data[df_salary_data['salary']=='Low']\n",
    "    df_medium = df_salary_data[df_salary_data['salary']=='Medium']\n",
    "    df_high = df_salary_data[df_salary_data['salary']=='High']  \n",
    "    \n",
    "    # Upsample minority class\n",
    "    df_medium_upsampled = resample(df_medium, \n",
    "                                     replace=True,     # sample with replacement\n",
    "                                     n_samples=223,    # to match majority class\n",
    "                                     random_state=47) # reproducible results\n",
    "\n",
    "    df_low_upsampled = resample(df_low, \n",
    "                                     replace=True,     # sample with replacement\n",
    "                                     n_samples=215,    # to match majority class\n",
    "                                     random_state=47) # reproducible results\n",
    "\n",
    "    df_upsampled = pd.concat([df_medium_upsampled,df_low_upsampled,df_high])\n",
    " \n",
    "    return df_upsampled"
   ]
  },
  {
   "cell_type": "code",
   "execution_count": 1124,
   "metadata": {},
   "outputs": [
    {
     "data": {
      "text/plain": [
       "(360, 5)"
      ]
     },
     "execution_count": 1124,
     "metadata": {},
     "output_type": "execute_result"
    }
   ],
   "source": [
    "df_salary_data.shape"
   ]
  },
  {
   "cell_type": "code",
   "execution_count": 1125,
   "metadata": {},
   "outputs": [],
   "source": [
    "df_upsampled = upsample_class(df_salary_data)"
   ]
  },
  {
   "cell_type": "code",
   "execution_count": 1126,
   "metadata": {},
   "outputs": [
    {
     "data": {
      "text/plain": [
       "(684, 5)"
      ]
     },
     "execution_count": 1126,
     "metadata": {},
     "output_type": "execute_result"
    }
   ],
   "source": [
    "df_upsampled.shape"
   ]
  },
  {
   "cell_type": "code",
   "execution_count": 1127,
   "metadata": {},
   "outputs": [],
   "source": [
    "#preprocess the text of resampled dataframe\n",
    "X_upsampled_titles = df_upsampled['job_title'].apply(lambda x:lemmatize_data(x))"
   ]
  },
  {
   "cell_type": "code",
   "execution_count": 1128,
   "metadata": {},
   "outputs": [
    {
     "data": {
      "text/plain": [
       "(684,)"
      ]
     },
     "execution_count": 1128,
     "metadata": {},
     "output_type": "execute_result"
    }
   ],
   "source": [
    "X_upsampled_titles.shape"
   ]
  },
  {
   "cell_type": "code",
   "execution_count": 1129,
   "metadata": {},
   "outputs": [],
   "source": [
    "#generate the Tfidf vector from resampled dataframe\n",
    "X_upsampled_titles_vec = create_tfidf_vec(X_upsampled_titles)"
   ]
  },
  {
   "cell_type": "code",
   "execution_count": 1130,
   "metadata": {},
   "outputs": [
    {
     "data": {
      "text/plain": [
       "(684, 277)"
      ]
     },
     "execution_count": 1130,
     "metadata": {},
     "output_type": "execute_result"
    }
   ],
   "source": [
    "X_upsampled_titles_vec.shape"
   ]
  },
  {
   "cell_type": "markdown",
   "metadata": {},
   "source": [
    "#### Reduce Dimensinality\n",
    "\n",
    "- When we convert our text data into vector using TfIdf it will genrate huge sparse matrix.\n",
    "- Using this sparse matrix might not give better prediction and not able to genralise for unseen data\n",
    "- Therefore, we are using TruncatedSVD to reduce dimension and genralise model"
   ]
  },
  {
   "cell_type": "code",
   "execution_count": 1131,
   "metadata": {},
   "outputs": [],
   "source": [
    "#reduce the dimention using TruncatedSVD\n",
    "def reduce_dimensions(X,components):\n",
    "    svd = TruncatedSVD(n_components=components)\n",
    "    svd = svd.fit(X)\n",
    "    print(svd.explained_variance_ratio_.sum())\n",
    "    X_reduce_vec = svd.transform(X)\n",
    "    return X_reduce_vec"
   ]
  },
  {
   "cell_type": "code",
   "execution_count": 1132,
   "metadata": {},
   "outputs": [
    {
     "name": "stdout",
     "output_type": "stream",
     "text": [
      "0.8009009128975568\n"
     ]
    }
   ],
   "source": [
    "#only 70 components out of 277 can explain 80 of variance in our data\n",
    "X_reduce_titles_vec = reduce_dimensions(X_upsampled_titles_vec,70)"
   ]
  },
  {
   "cell_type": "code",
   "execution_count": 1133,
   "metadata": {},
   "outputs": [
    {
     "data": {
      "text/plain": [
       "(684, 70)"
      ]
     },
     "execution_count": 1133,
     "metadata": {},
     "output_type": "execute_result"
    }
   ],
   "source": [
    "X_reduce_titles_vec.shape"
   ]
  },
  {
   "cell_type": "code",
   "execution_count": 1134,
   "metadata": {},
   "outputs": [
    {
     "data": {
      "text/plain": [
       "(684,)"
      ]
     },
     "execution_count": 1134,
     "metadata": {},
     "output_type": "execute_result"
    }
   ],
   "source": [
    "df_upsampled['salary'].shape"
   ]
  },
  {
   "cell_type": "code",
   "execution_count": 1135,
   "metadata": {},
   "outputs": [],
   "source": [
    "#lr = LogisticRegression(penalty='l2',C=5000, random_state=47, n_jobs=3)\n",
    "#logistic regression on reduced dimension and resampled data with job titles\n",
    "lr = LogisticRegression(penalty='l2',C=1900, random_state=47, n_jobs=3)"
   ]
  },
  {
   "cell_type": "code",
   "execution_count": 1136,
   "metadata": {},
   "outputs": [],
   "source": [
    "#calling generate model function\n",
    "training_score , testing_score ,cv_train_score,cv_test_score,y_pred,y_test = generate_model_result(lr,X_reduce_titles_vec,df_upsampled['salary'])"
   ]
  },
  {
   "cell_type": "code",
   "execution_count": 1137,
   "metadata": {},
   "outputs": [
    {
     "data": {
      "text/plain": [
       "(0.6986899563318777,\n",
       " 0.6769911504424779,\n",
       " 0.6615230491808332,\n",
       " 0.6101537110232762)"
      ]
     },
     "execution_count": 1137,
     "metadata": {},
     "output_type": "execute_result"
    }
   ],
   "source": [
    "#model result\n",
    "training_score , testing_score ,cv_train_score,cv_test_score"
   ]
  },
  {
   "cell_type": "code",
   "execution_count": 1138,
   "metadata": {},
   "outputs": [
    {
     "name": "stdout",
     "output_type": "stream",
     "text": [
      "              precision    recall  f1-score   support\n",
      "\n",
      "        High       0.48      0.93      0.63        43\n",
      "         Low       0.97      0.57      0.72       129\n",
      "      Medium       0.60      0.74      0.66        54\n",
      "\n",
      "   micro avg       0.68      0.68      0.68       226\n",
      "   macro avg       0.68      0.75      0.67       226\n",
      "weighted avg       0.79      0.68      0.69       226\n",
      "\n"
     ]
    }
   ],
   "source": [
    "genrate_classificatoin_report(y_pred,y_test)"
   ]
  },
  {
   "cell_type": "code",
   "execution_count": 1139,
   "metadata": {},
   "outputs": [
    {
     "data": {
      "image/png": "[encoded data removed]",
      "text/plain": [
       "<Figure size 432x288 with 2 Axes>"
      ]
     },
     "metadata": {
      "needs_background": "light"
     },
     "output_type": "display_data"
    }
   ],
   "source": [
    "generate_confusion_matrix(y_test,y_pred)"
   ]
  },
  {
   "cell_type": "markdown",
   "metadata": {},
   "source": [
    "#### Predicting salary with job title and location using logisting regression"
   ]
  },
  {
   "cell_type": "code",
   "execution_count": 1140,
   "metadata": {},
   "outputs": [],
   "source": [
    "#getting dummies of location\n",
    "df_upsampled_location = pd.get_dummies(df_upsampled['location'])"
   ]
  },
  {
   "cell_type": "code",
   "execution_count": 1151,
   "metadata": {},
   "outputs": [
    {
     "data": {
      "text/plain": [
       "((684, 277), (684, 16))"
      ]
     },
     "execution_count": 1151,
     "metadata": {},
     "output_type": "execute_result"
    }
   ],
   "source": [
    "X_upsampled_titles_vec.shape, df_upsampled_location.shape"
   ]
  },
  {
   "cell_type": "code",
   "execution_count": 1152,
   "metadata": {},
   "outputs": [],
   "source": [
    "df_upsampled_location.reset_index(drop=True,inplace=True)"
   ]
  },
  {
   "cell_type": "code",
   "execution_count": 1153,
   "metadata": {},
   "outputs": [],
   "source": [
    "#concatinating job titles vector with location\n",
    "X_upsampled_titles_location_vec = pd.concat([X_upsampled_titles_vec,df_upsampled_location],axis=1,ignore_index=True)"
   ]
  },
  {
   "cell_type": "code",
   "execution_count": 1154,
   "metadata": {},
   "outputs": [
    {
     "data": {
      "text/plain": [
       "(684, 293)"
      ]
     },
     "execution_count": 1154,
     "metadata": {},
     "output_type": "execute_result"
    }
   ],
   "source": [
    "X_upsampled_titles_location_vec.shape"
   ]
  },
  {
   "cell_type": "code",
   "execution_count": 1155,
   "metadata": {},
   "outputs": [
    {
     "name": "stdout",
     "output_type": "stream",
     "text": [
      "0.8244545759454374\n"
     ]
    }
   ],
   "source": [
    "#with 50 components out of 293 we are able to explain 82% variance in our data\n",
    "X_reduce_upsampled_titles_location_vec = reduce_dimensions(X_upsampled_titles_location_vec,50)"
   ]
  },
  {
   "cell_type": "code",
   "execution_count": 1156,
   "metadata": {},
   "outputs": [
    {
     "data": {
      "text/plain": [
       "(684, 50)"
      ]
     },
     "execution_count": 1156,
     "metadata": {},
     "output_type": "execute_result"
    }
   ],
   "source": [
    "X_reduce_upsampled_titles_location_vec.shape"
   ]
  },
  {
   "cell_type": "code",
   "execution_count": 1157,
   "metadata": {},
   "outputs": [
    {
     "data": {
      "text/plain": [
       "(684,)"
      ]
     },
     "execution_count": 1157,
     "metadata": {},
     "output_type": "execute_result"
    }
   ],
   "source": [
    "df_upsampled['salary'].shape"
   ]
  },
  {
   "cell_type": "code",
   "execution_count": 1158,
   "metadata": {},
   "outputs": [],
   "source": [
    "#lr = LogisticRegression(penalty='l2',C=1500, random_state=47, n_jobs=3)\n",
    "#lr = LogisticRegression(penalty='l1',C=1500, random_state=47, n_jobs=3)\n",
    "#logistic regresson on title and location\n",
    "lr = LogisticRegression(penalty='l1',C=800, random_state=47, n_jobs=3)\n",
    "#lr = LogisticRegression(penalty='l1',C=100, random_state=47, n_jobs=3)"
   ]
  },
  {
   "cell_type": "code",
   "execution_count": 1159,
   "metadata": {},
   "outputs": [],
   "source": [
    "training_score , testing_score ,cv_train_score,cv_test_score,y_pred,y_test = generate_model_result(lr,X_reduce_upsampled_titles_location_vec,df_upsampled['salary'])"
   ]
  },
  {
   "cell_type": "code",
   "execution_count": 1160,
   "metadata": {},
   "outputs": [
    {
     "data": {
      "text/plain": [
       "(0.7379912663755459,\n",
       " 0.7035398230088495,\n",
       " 0.6876120606835895,\n",
       " 0.6636012296881861)"
      ]
     },
     "execution_count": 1160,
     "metadata": {},
     "output_type": "execute_result"
    }
   ],
   "source": [
    "#model result\n",
    "training_score , testing_score ,cv_train_score,cv_test_score"
   ]
  },
  {
   "cell_type": "code",
   "execution_count": 1161,
   "metadata": {},
   "outputs": [
    {
     "name": "stdout",
     "output_type": "stream",
     "text": [
      "              precision    recall  f1-score   support\n",
      "\n",
      "        High       0.82      0.56      0.67        84\n",
      "         Low       0.61      0.97      0.75        75\n",
      "      Medium       0.80      0.58      0.67        67\n",
      "\n",
      "   micro avg       0.70      0.70      0.70       226\n",
      "   macro avg       0.74      0.70      0.70       226\n",
      "weighted avg       0.74      0.70      0.70       226\n",
      "\n"
     ]
    }
   ],
   "source": [
    "genrate_classificatoin_report(y_test,y_pred)"
   ]
  },
  {
   "cell_type": "code",
   "execution_count": 1163,
   "metadata": {},
   "outputs": [
    {
     "data": {
      "image/png": "[encoded data removed]",
      "text/plain": [
       "<Figure size 432x288 with 2 Axes>"
      ]
     },
     "metadata": {
      "needs_background": "light"
     },
     "output_type": "display_data"
    }
   ],
   "source": [
    "generate_confusion_matrix(y_test,y_pred)"
   ]
  },
  {
   "cell_type": "markdown",
   "metadata": {},
   "source": [
    "#### Using job titles, location and job description to predict salary"
   ]
  },
  {
   "cell_type": "code",
   "execution_count": 1164,
   "metadata": {},
   "outputs": [],
   "source": [
    "df_upsampled_job_desc = df_upsampled['job_desc']"
   ]
  },
  {
   "cell_type": "code",
   "execution_count": 1165,
   "metadata": {},
   "outputs": [],
   "source": [
    "df_upsampled_job_desc.reset_index(drop=True,inplace=True)\n"
   ]
  },
  {
   "cell_type": "code",
   "execution_count": 1166,
   "metadata": {},
   "outputs": [],
   "source": [
    "X_upsampled_job_desc = df_upsampled['job_desc'].apply(lambda x:lemmatize_data(x))"
   ]
  },
  {
   "cell_type": "code",
   "execution_count": 1167,
   "metadata": {},
   "outputs": [],
   "source": [
    "#generating tfidf vector of pre processed job dscription text\n",
    "X_upsampled_job_desc_vec = create_tfidf_vec(X_upsampled_job_desc)"
   ]
  },
  {
   "cell_type": "code",
   "execution_count": 1169,
   "metadata": {},
   "outputs": [
    {
     "data": {
      "text/plain": [
       "(684, 14817)"
      ]
     },
     "execution_count": 1169,
     "metadata": {},
     "output_type": "execute_result"
    }
   ],
   "source": [
    "X_upsampled_job_desc_vec.shape"
   ]
  },
  {
   "cell_type": "code",
   "execution_count": 1170,
   "metadata": {},
   "outputs": [
    {
     "data": {
      "text/plain": [
       "(684, 293)"
      ]
     },
     "execution_count": 1170,
     "metadata": {},
     "output_type": "execute_result"
    }
   ],
   "source": [
    "X_upsampled_titles_location_vec.shape"
   ]
  },
  {
   "cell_type": "code",
   "execution_count": 1171,
   "metadata": {},
   "outputs": [],
   "source": [
    "#generating vector of title, location and description by concatinating them\n",
    "X_upsampled_titles_location_desc_vec = pd.concat([X_upsampled_titles_location_vec,X_upsampled_job_desc_vec],axis=1,ignore_index=True)"
   ]
  },
  {
   "cell_type": "code",
   "execution_count": 1172,
   "metadata": {},
   "outputs": [
    {
     "data": {
      "text/plain": [
       "(684, 15110)"
      ]
     },
     "execution_count": 1172,
     "metadata": {},
     "output_type": "execute_result"
    }
   ],
   "source": [
    "X_upsampled_titles_location_desc_vec.shape"
   ]
  },
  {
   "cell_type": "code",
   "execution_count": 1173,
   "metadata": {},
   "outputs": [
    {
     "name": "stdout",
     "output_type": "stream",
     "text": [
      "0.8878906958569998\n"
     ]
    }
   ],
   "source": [
    "#with 150 components out of 15110 can explain 88% variance of our data\n",
    "X_reduce_upsampled_title_location_desc_vec = reduce_dimensions(X_upsampled_titles_location_desc_vec,150)"
   ]
  },
  {
   "cell_type": "code",
   "execution_count": 582,
   "metadata": {},
   "outputs": [
    {
     "data": {
      "text/plain": [
       "((684, 150), (684,))"
      ]
     },
     "execution_count": 582,
     "metadata": {},
     "output_type": "execute_result"
    }
   ],
   "source": [
    "X_reduce_upsampled_title_location_desc_vec.shape, df_upsampled['salary'].shape"
   ]
  },
  {
   "cell_type": "code",
   "execution_count": 1180,
   "metadata": {},
   "outputs": [],
   "source": [
    "#lr = LogisticRegression(penalty='l2',C=3, random_state=47, n_jobs=3)\n",
    "#logistic regrssion with title,location and description\n",
    "lr = LogisticRegression(penalty='l1',C=250, random_state=47, n_jobs=3)\n",
    "#lr = LogisticRegression(penalty='l1',C=5000, random_state=47, n_jobs=3)"
   ]
  },
  {
   "cell_type": "code",
   "execution_count": 1181,
   "metadata": {},
   "outputs": [],
   "source": [
    "training_score , testing_score ,cv_train_score,cv_test_score,y_pred,y_test = generate_model_result(lr,X_reduce_upsampled_title_location_desc_vec,df_upsampled['salary'])"
   ]
  },
  {
   "cell_type": "code",
   "execution_count": 1182,
   "metadata": {},
   "outputs": [
    {
     "data": {
      "text/plain": [
       "(0.9672489082969432, 0.8849557522123894, 0.814466038869966, 0.7074659639877031)"
      ]
     },
     "execution_count": 1182,
     "metadata": {},
     "output_type": "execute_result"
    }
   ],
   "source": [
    "#test result\n",
    "training_score , testing_score ,cv_train_score,cv_test_score"
   ]
  },
  {
   "cell_type": "code",
   "execution_count": 1183,
   "metadata": {},
   "outputs": [
    {
     "name": "stdout",
     "output_type": "stream",
     "text": [
      "              precision    recall  f1-score   support\n",
      "\n",
      "        High       0.97      0.75      0.85        84\n",
      "         Low       0.85      1.00      0.92        75\n",
      "      Medium       0.85      0.93      0.89        67\n",
      "\n",
      "   micro avg       0.88      0.88      0.88       226\n",
      "   macro avg       0.89      0.89      0.88       226\n",
      "weighted avg       0.89      0.88      0.88       226\n",
      "\n"
     ]
    }
   ],
   "source": [
    "genrate_classificatoin_report(y_test,y_pred)"
   ]
  },
  {
   "cell_type": "code",
   "execution_count": 1184,
   "metadata": {},
   "outputs": [
    {
     "data": {
      "image/png": "[encoded data removed]",
      "text/plain": [
       "<Figure size 432x288 with 2 Axes>"
      ]
     },
     "metadata": {
      "needs_background": "light"
     },
     "output_type": "display_data"
    }
   ],
   "source": [
    "generate_confusion_matrix(y_test,y_pred)"
   ]
  },
  {
   "cell_type": "markdown",
   "metadata": {},
   "source": [
    "#### Predicting salary using Support Vector Machine on title,location, and description"
   ]
  },
  {
   "cell_type": "code",
   "execution_count": 1185,
   "metadata": {},
   "outputs": [],
   "source": [
    "#svm_model = SVC(kernel='rbf',C=10,gamma=0.5)\n",
    "#svm_model = SVC(kernel='rbf',C=7,gamma=0.5)\n",
    "\n",
    "svm_model = SVC(kernel='rbf',C=5,gamma=0.5)"
   ]
  },
  {
   "cell_type": "code",
   "execution_count": 1186,
   "metadata": {},
   "outputs": [],
   "source": [
    "training_score , testing_score ,cv_train_score,cv_test_score,y_pred,y_test = generate_model_result(svm_model,X_reduce_upsampled_title_location_desc_vec,df_upsampled['salary'])"
   ]
  },
  {
   "cell_type": "code",
   "execution_count": 1187,
   "metadata": {},
   "outputs": [
    {
     "data": {
      "text/plain": [
       "(0.8951965065502183,\n",
       " 0.8584070796460177,\n",
       " 0.8077074631773089,\n",
       " 0.7337505489679403)"
      ]
     },
     "execution_count": 1187,
     "metadata": {},
     "output_type": "execute_result"
    }
   ],
   "source": [
    "#model result\n",
    "training_score , testing_score ,cv_train_score,cv_test_score"
   ]
  },
  {
   "cell_type": "code",
   "execution_count": 1188,
   "metadata": {},
   "outputs": [
    {
     "name": "stdout",
     "output_type": "stream",
     "text": [
      "              precision    recall  f1-score   support\n",
      "\n",
      "        High       0.95      0.69      0.80        84\n",
      "         Low       0.75      1.00      0.86        75\n",
      "      Medium       0.94      0.91      0.92        67\n",
      "\n",
      "   micro avg       0.86      0.86      0.86       226\n",
      "   macro avg       0.88      0.87      0.86       226\n",
      "weighted avg       0.88      0.86      0.86       226\n",
      "\n"
     ]
    }
   ],
   "source": [
    "genrate_classificatoin_report(y_test,y_pred)"
   ]
  },
  {
   "cell_type": "code",
   "execution_count": 1189,
   "metadata": {},
   "outputs": [
    {
     "data": {
      "image/png": "[encoded data removed]",
      "text/plain": [
       "<Figure size 432x288 with 2 Axes>"
      ]
     },
     "metadata": {
      "needs_background": "light"
     },
     "output_type": "display_data"
    }
   ],
   "source": [
    "generate_confusion_matrix(y_test,y_pred)"
   ]
  },
  {
   "cell_type": "markdown",
   "metadata": {},
   "source": [
    "#### Prediction salary using Random Forest"
   ]
  },
  {
   "cell_type": "code",
   "execution_count": 1,
   "metadata": {},
   "outputs": [
    {
     "ename": "NameError",
     "evalue": "name 'RandomForestClassifier' is not defined",
     "output_type": "error",
     "traceback": [
      "\u001b[1;31m---------------------------------------------------------------------------\u001b[0m",
      "\u001b[1;31mNameError\u001b[0m                                 Traceback (most recent call last)",
      "\u001b[1;32m<ipython-input-1-c479e40dfda7>\u001b[0m in \u001b[0;36m<module>\u001b[1;34m\u001b[0m\n\u001b[0;32m      5\u001b[0m \u001b[1;31m# forest_clf=RandomForestClassifier(n_estimators=10,max_depth=5,random_state=43,criterion='gini', \\\u001b[0m\u001b[1;33m\u001b[0m\u001b[1;33m\u001b[0m\u001b[1;33m\u001b[0m\u001b[0m\n\u001b[0;32m      6\u001b[0m \u001b[1;31m#                                  max_features=2)\u001b[0m\u001b[1;33m\u001b[0m\u001b[1;33m\u001b[0m\u001b[1;33m\u001b[0m\u001b[0m\n\u001b[1;32m----> 7\u001b[1;33m forest_clf=RandomForestClassifier(n_estimators=10,max_depth=10,random_state=43,criterion='gini', \\\n\u001b[0m\u001b[0;32m      8\u001b[0m                                  max_features=10)\n",
      "\u001b[1;31mNameError\u001b[0m: name 'RandomForestClassifier' is not defined"
     ]
    }
   ],
   "source": [
    "# forest_clf=RandomForestClassifier(n_estimators=50,max_depth=12,random_state=43,criterion='gini', \\\n",
    "#                                  max_features=30)\n",
    "# forest_clf=RandomForestClassifier(n_estimators=50,max_depth=12,random_state=43,criterion='gini', \\\n",
    "#                                  max_features=10)\n",
    "# forest_clf=RandomForestClassifier(n_estimators=10,max_depth=5,random_state=43,criterion='gini', \\\n",
    "#                                  max_features=2)\n",
    "forest_clf=RandomForestClassifier(n_estimators=10,max_depth=7,random_state=43,criterion='gini', \\\n",
    "                                 max_features=10)"
   ]
  },
  {
   "cell_type": "code",
   "execution_count": 1200,
   "metadata": {},
   "outputs": [],
   "source": [
    "training_score , testing_score ,cv_train_score,cv_test_score,y_pred,y_test = generate_model_result(forest_clf,X_reduce_upsampled_title_location_desc_vec,df_upsampled['salary'])"
   ]
  },
  {
   "cell_type": "code",
   "execution_count": 1201,
   "metadata": {},
   "outputs": [
    {
     "data": {
      "text/plain": [
       "(0.9650655021834061, 0.9336283185840708, 0.8951682258835134, 0.849534475186649)"
      ]
     },
     "execution_count": 1201,
     "metadata": {},
     "output_type": "execute_result"
    }
   ],
   "source": [
    "training_score , testing_score ,cv_train_score,cv_test_score"
   ]
  },
  {
   "cell_type": "code",
   "execution_count": 1202,
   "metadata": {},
   "outputs": [
    {
     "name": "stdout",
     "output_type": "stream",
     "text": [
      "              precision    recall  f1-score   support\n",
      "\n",
      "        High       0.95      0.90      0.93        84\n",
      "         Low       0.89      1.00      0.94        75\n",
      "      Medium       0.97      0.90      0.93        67\n",
      "\n",
      "   micro avg       0.93      0.93      0.93       226\n",
      "   macro avg       0.94      0.93      0.93       226\n",
      "weighted avg       0.94      0.93      0.93       226\n",
      "\n"
     ]
    }
   ],
   "source": [
    "genrate_classificatoin_report(y_test,y_pred)"
   ]
  },
  {
   "cell_type": "code",
   "execution_count": 1203,
   "metadata": {},
   "outputs": [
    {
     "data": {
      "image/png": "[encoded data removed]",
      "text/plain": [
       "<Figure size 432x288 with 2 Axes>"
      ]
     },
     "metadata": {
      "needs_background": "light"
     },
     "output_type": "display_data"
    }
   ],
   "source": [
    "generate_confusion_matrix(y_test,y_pred)"
   ]
  },
  {
   "cell_type": "code",
   "execution_count": null,
   "metadata": {},
   "outputs": [],
   "source": [
    "#### Predicting salary using BaggingClassifier"
   ]
  },
  {
   "cell_type": "code",
   "execution_count": null,
   "metadata": {},
   "outputs": [],
   "source": [
    "#bag_model = BaggingClassifier(n_estimators=1000)\n",
    "bag_model = BaggingClassifier(n_estimators=500,n_jobs=3,max_samples=100,max_features=50)\n",
    "bag_model = BaggingClassifier(n_estimators=300,n_jobs=3,max_samples=50,max_features=50)\n",
    "#bag_model = BaggingClassifier(n_estimators=300,n_jobs=3,max_samples=30,max_features=30)\n",
    "\n",
    "#bag_model = BaggingClassifier(n_estimators=300)"
   ]
  },
  {
   "cell_type": "code",
   "execution_count": 1205,
   "metadata": {},
   "outputs": [],
   "source": [
    "training_score , testing_score ,cv_train_score,cv_test_score,y_pred,y_test = generate_model_result(bag_model,X_reduce_upsampled_title_location_desc_vec,df_upsampled['salary'])"
   ]
  },
  {
   "cell_type": "code",
   "execution_count": 1206,
   "metadata": {},
   "outputs": [
    {
     "data": {
      "text/plain": [
       "(0.9344978165938864, 0.9203539823008849, 0.888669348416894, 0.8720553359683795)"
      ]
     },
     "execution_count": 1206,
     "metadata": {},
     "output_type": "execute_result"
    }
   ],
   "source": [
    "#model result\n",
    "training_score , testing_score ,cv_train_score,cv_test_score"
   ]
  },
  {
   "cell_type": "code",
   "execution_count": 1207,
   "metadata": {},
   "outputs": [
    {
     "name": "stdout",
     "output_type": "stream",
     "text": [
      "              precision    recall  f1-score   support\n",
      "\n",
      "        High       0.96      0.89      0.93        84\n",
      "         Low       0.87      0.99      0.93        75\n",
      "      Medium       0.94      0.88      0.91        67\n",
      "\n",
      "   micro avg       0.92      0.92      0.92       226\n",
      "   macro avg       0.92      0.92      0.92       226\n",
      "weighted avg       0.92      0.92      0.92       226\n",
      "\n"
     ]
    }
   ],
   "source": [
    "genrate_classificatoin_report(y_test,y_pred)"
   ]
  },
  {
   "cell_type": "code",
   "execution_count": 1208,
   "metadata": {},
   "outputs": [
    {
     "data": {
      "image/png": "[encoded data removed]",
      "text/plain": [
       "<Figure size 432x288 with 2 Axes>"
      ]
     },
     "metadata": {
      "needs_background": "light"
     },
     "output_type": "display_data"
    }
   ],
   "source": [
    "generate_confusion_matrix(y_test,y_pred)"
   ]
  },
  {
   "cell_type": "code",
   "execution_count": null,
   "metadata": {},
   "outputs": [],
   "source": []
  }
 ],
 "metadata": {
  "kernelspec": {
   "display_name": "Python 3",
   "language": "python",
   "name": "python3"
  },
  "language_info": {
   "codemirror_mode": {
    "name": "ipython",
    "version": 3
   },
   "file_extension": ".py",
   "mimetype": "text/x-python",
   "name": "python",
   "nbconvert_exporter": "python",
   "pygments_lexer": "ipython3",
   "version": "3.7.3"
  }
 },
 "nbformat": 4,
 "nbformat_minor": 2
}
