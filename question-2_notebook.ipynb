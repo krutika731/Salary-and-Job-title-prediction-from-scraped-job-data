{
 "cells": [
  {
   "cell_type": "markdown",
   "metadata": {},
   "source": [
    "## Question-2\n",
    "\n",
    "- Here we need to indetify the different key words from job descripotion that can distinguish differnt job category.\n",
    "- For this we are using job descrption and pre process the text by tokenizing and lemmatizing it.\n",
    "- Than used TdIdf to convert text data to be able to work with different model\n",
    "- Truncated SVD is used to reduce the dimensionality of this text data to genralise model result and prevent overfitting\n",
    "- For this problem we are indetifying the key words in categories like data analyst, data scientist, data engineer, business analyst and business intelligence"
   ]
  },
  {
   "cell_type": "code",
   "execution_count": 2035,
   "metadata": {},
   "outputs": [],
   "source": [
    "import re\n",
    "\n",
    "from sklearn.feature_extraction.text import TfidfVectorizer\n",
    "from sklearn.feature_extraction.text import CountVectorizer\n",
    "from nltk.corpus import stopwords\n",
    "\n",
    "\n",
    "from sklearn.metrics import silhouette_score,confusion_matrix,classification_report,precision_recall_fscore_support\n",
    "\n",
    "from sklearn.utils import resample\n",
    "\n",
    "from sklearn.model_selection import train_test_split,GridSearchCV,cross_val_score\n",
    "from sklearn.linear_model import LogisticRegression,LogisticRegressionCV\n",
    "from sklearn.naive_bayes import MultinomialNB\n",
    "from sklearn.ensemble import RandomForestClassifier,BaggingClassifier,ExtraTreesClassifier\n",
    "from xgboost import XGBClassifier\n",
    "\n",
    "from nltk.stem import PorterStemmer\n",
    "from nltk.tokenize import word_tokenize\n",
    "from nltk.stem import WordNetLemmatizer\n",
    "\n",
    "import numpy as np\n",
    "import pandas as pd\n",
    "\n",
    "\n",
    "\n",
    "from sklearn.decomposition import PCA,TruncatedSVD\n",
    "\n",
    "from sklearn import metrics\n",
    "\n",
    "import matplotlib.pyplot as plt\n",
    "import seaborn as sns\n",
    "\n",
    "import warnings\n",
    "warnings.simplefilter(action='ignore')"
   ]
  },
  {
   "cell_type": "markdown",
   "metadata": {},
   "source": [
    "#### Import data file"
   ]
  },
  {
   "cell_type": "code",
   "execution_count": 1966,
   "metadata": {},
   "outputs": [],
   "source": [
    "data_file = './data/cleaned_job_data'"
   ]
  },
  {
   "cell_type": "code",
   "execution_count": 1967,
   "metadata": {},
   "outputs": [],
   "source": [
    "df_job_data = pd.read_csv(data_file)"
   ]
  },
  {
   "cell_type": "code",
   "execution_count": 1968,
   "metadata": {},
   "outputs": [],
   "source": [
    "df_job_data.drop(['Unnamed: 0'],axis=1,inplace=True)"
   ]
  },
  {
   "cell_type": "code",
   "execution_count": 1969,
   "metadata": {},
   "outputs": [
    {
     "data": {
      "text/plain": [
       "(1856, 5)"
      ]
     },
     "execution_count": 1969,
     "metadata": {},
     "output_type": "execute_result"
    }
   ],
   "source": [
    "df_job_data.shape"
   ]
  },
  {
   "cell_type": "code",
   "execution_count": 1970,
   "metadata": {},
   "outputs": [
    {
     "data": {
      "text/plain": [
       "0"
      ]
     },
     "execution_count": 1970,
     "metadata": {},
     "output_type": "execute_result"
    }
   ],
   "source": [
    "df_job_data['job_title'].isnull().sum()"
   ]
  },
  {
   "cell_type": "code",
   "execution_count": 1971,
   "metadata": {},
   "outputs": [],
   "source": [
    "#define a function to generate different class from job title\n",
    "def clean_job_titles(title):\n",
    "    if 'business analyst '  in title or 'business analyst' in title or 'ba' in title:\n",
    "        return 'Business Analyst'\n",
    "    if 'data analyst' in title:\n",
    "        return 'Data Analyst'\n",
    "    if 'data engineer' in title:\n",
    "        return 'Data Engineer'\n",
    "    if 'business intelligence' in title or 'bi' in title:\n",
    "        return 'Business Intellegence'\n",
    "    if 'data scientist' in title or 'machine learning' in title:\n",
    "        return 'Data Scientist'\n",
    "    else:\n",
    "        return title"
   ]
  },
  {
   "cell_type": "code",
   "execution_count": 1972,
   "metadata": {},
   "outputs": [],
   "source": [
    "df_job_data['job_title'] = df_job_data['job_title'].apply(lambda x:clean_job_titles(x.lower()))"
   ]
  },
  {
   "cell_type": "code",
   "execution_count": 1973,
   "metadata": {},
   "outputs": [],
   "source": [
    "#drop all the other job titles\n",
    "df_job_data.drop(df_job_data[(df_job_data['job_title']!='Business Analyst') & (df_job_data['job_title']!='Business Intellegence') \\\n",
    "            & (df_job_data['job_title']!='Data Analyst') & (df_job_data['job_title']!='Data Engineer') \\\n",
    "           & (df_job_data['job_title']!='Data Scientist')].index,inplace=True)"
   ]
  },
  {
   "cell_type": "code",
   "execution_count": 1974,
   "metadata": {},
   "outputs": [
    {
     "data": {
      "text/plain": [
       "(1122, 5)"
      ]
     },
     "execution_count": 1974,
     "metadata": {},
     "output_type": "execute_result"
    }
   ],
   "source": [
    "df_job_data.shape"
   ]
  },
  {
   "cell_type": "code",
   "execution_count": 1975,
   "metadata": {},
   "outputs": [
    {
     "data": {
      "text/plain": [
       "(1116, 5)"
      ]
     },
     "execution_count": 1975,
     "metadata": {},
     "output_type": "execute_result"
    }
   ],
   "source": [
    "#dropping values having job desc as null\n",
    "df_job_data.drop(df_job_data[df_job_data['job_desc'].isnull()].index,inplace=True)\n",
    "df_job_data.shape"
   ]
  },
  {
   "cell_type": "code",
   "execution_count": 1976,
   "metadata": {},
   "outputs": [
    {
     "data": {
      "text/plain": [
       "(976, 5)"
      ]
     },
     "execution_count": 1976,
     "metadata": {},
     "output_type": "execute_result"
    }
   ],
   "source": [
    "#dropping all data that have 'None' as job description\n",
    "df_job_data.drop(df_job_data['job_desc'][df_job_data['job_desc']=='None'].index,inplace=True)\n",
    "df_job_data.shape"
   ]
  },
  {
   "cell_type": "code",
   "execution_count": 1977,
   "metadata": {},
   "outputs": [
    {
     "data": {
      "text/plain": [
       "Business Analyst         0.691598\n",
       "Data Analyst             0.131148\n",
       "Business Intellegence    0.094262\n",
       "Data Engineer            0.048156\n",
       "Data Scientist           0.034836\n",
       "Name: job_title, dtype: float64"
      ]
     },
     "execution_count": 1977,
     "metadata": {},
     "output_type": "execute_result"
    }
   ],
   "source": [
    "#baseline\n",
    "df_job_data['job_title'].value_counts(normalize=True)"
   ]
  },
  {
   "cell_type": "code",
   "execution_count": 1978,
   "metadata": {},
   "outputs": [],
   "source": [
    "#define text pre processing function\n",
    "def lemmatize_data(job_desc):\n",
    "    lemmatizer = WordNetLemmatizer()\n",
    "    job_desc = re.sub(r'[0-9]', '', job_desc, flags=re.I)\n",
    "    lem_verb = ' '.join([lemmatizer.lemmatize(each_word, pos='v') for each_word in word_tokenize(job_desc)])\n",
    "    #lem_noun = ' '.join([lemmatizer.lemmatize(each_word, pos='n') for each_word in word_tokenize(lem_verb)])\n",
    "    return lem_verb"
   ]
  },
  {
   "cell_type": "code",
   "execution_count": 1979,
   "metadata": {},
   "outputs": [],
   "source": [
    "X = df_job_data['job_desc'].apply(lambda x:lemmatize_data(x))"
   ]
  },
  {
   "cell_type": "code",
   "execution_count": 1980,
   "metadata": {},
   "outputs": [],
   "source": [
    "#define your own custom words\n",
    "custom_stop_words = ['immidiate', 'job','senior','junior','experience','contract','permanent','full-time','work', \\\n",
    "                    'officer','manager','capgemini','geelong','men','newcastle','business analyst','level','please','button',\n",
    "                     'call','recruitment', 'international','need', 'follow','type' ,'fulltimesalary','company', 'base',\\\n",
    "                     'end', 'development','detail', 'understand','whats', 'next','opportunity', 'rolethe','level',\\\n",
    "                     'please','skills', 'responsibilitieswhat','cbd','opportunity','minimum','month','understandingattention',\\\n",
    "                     'detailwork','bonus' ,'great','terry', 'chandramun','cv', 'call','applicants','encourage','act',\\\n",
    "                     'australia','fourquarters', 'com','send', 'update','join','shortlist','contact','change','within',\\\n",
    "                     'first', 'instance','www', 'au','add','advantage','location', 'melbourne','environment', 'excellent',\\\n",
    "                     'digital', 'service','new','ensure','accurate','lead', 'organisation','ability', 'quickly',\\\n",
    "                     'team', 'well','position', 'us','suit','look', 'confidential','discussion', 'career','would','ideal',\\\n",
    "                     'previouslyworking', 'managementhead', 'ofexecutive', 'note', 'role', 'squad', 'youto', 'squad', 'anzat',\\\n",
    "                     'culture', 'companyour', 'responsiblefor', 'passion', 'good', 'maintenancebasic', 'professional', 'drive',\\\n",
    "                     'suburbs', 'learn', 'ideas', 'continuous', 'consdier', 'consdier', 'due', 'continuous','growth',\\\n",
    "                     'communication','australian', 'innovative', 'anz', 'southeast','adelaide', 'successful', 'consider',\\\n",
    "                     'global', 'regard', 'citizens', 'chapter', 'clean', 'conduit', 'property', 'dan', 'closely', 'immediately',\\\n",
    "                     'wire', 'handle', 'also', 'successful', 'eventually', 'turn', 'candidate','smart', 'publish', 'disability',\\\n",
    "                     'managementleadership', 'personal', 'promote', 'underperformance', 'create', 'proactively', 'topic',\\\n",
    "                     'expertise','improve','datadriven','receive','data','set','standards','hill','prominent','woolworths',\\\n",
    "                     'highly','group','headquarters','wa','liebhheraustralia','client','medical','center','seer','already',\\\n",
    "                     'technologyabout', 'youbechlors']"
   ]
  },
  {
   "cell_type": "code",
   "execution_count": 1981,
   "metadata": {},
   "outputs": [],
   "source": [
    "#add those words to stop_words list\n",
    "stopwords = stopwords.words('english')\n",
    "stopwords.extend(custom_stop_words)"
   ]
  },
  {
   "cell_type": "code",
   "execution_count": 1982,
   "metadata": {},
   "outputs": [],
   "source": [
    "#define a function to generate TfIdf vector\n",
    "def create_tfidf_vec(data):\n",
    "    tfidf = TfidfVectorizer(stop_words=stopwords,max_df=8,min_df=2,sublinear_tf=True,ngram_range=(2,2))\n",
    "    tfidf.fit(data)\n",
    "    X_vec = pd.DataFrame(tfidf.transform(data).todense(), columns=tfidf.get_feature_names())\n",
    "    feature_names = tfidf.get_feature_names()\n",
    "    return X_vec,feature_names"
   ]
  },
  {
   "cell_type": "code",
   "execution_count": 1983,
   "metadata": {},
   "outputs": [],
   "source": [
    "X_vec,feature_names = create_tfidf_vec(X)"
   ]
  },
  {
   "cell_type": "code",
   "execution_count": 1984,
   "metadata": {},
   "outputs": [
    {
     "data": {
      "text/plain": [
       "(976, 21892)"
      ]
     },
     "execution_count": 1984,
     "metadata": {},
     "output_type": "execute_result"
    }
   ],
   "source": [
    "X_vec.shape"
   ]
  },
  {
   "cell_type": "code",
   "execution_count": 1985,
   "metadata": {
    "collapsed": true
   },
   "outputs": [
    {
     "data": {
      "text/plain": [
       "database developer         1.811572\n",
       "devops engineer            1.423505\n",
       "oracle dba                 1.368109\n",
       "bank amp                   1.338210\n",
       "analyst legacy             1.337659\n",
       "project health             1.337659\n",
       "legacy project             1.337659\n",
       "document system            1.337236\n",
       "financial sector           1.295550\n",
       "document management        1.265532\n",
       "industry leader            1.231922\n",
       "insurance industry         1.221603\n",
       "mysql oracle               1.221008\n",
       "requirements apply         1.215713\n",
       "baseline security          1.206606\n",
       "finance systems            1.190331\n",
       "matter expert              1.181923\n",
       "management support         1.177025\n",
       "credit risk                1.169499\n",
       "governance framework       1.161003\n",
       "build capability           1.159795\n",
       "software project           1.154036\n",
       "right reference            1.148904\n",
       "health industry            1.144957\n",
       "machine engineer           1.144810\n",
       "database analyst           1.144771\n",
       "machine algorithms         1.144640\n",
       "requirements strong        1.136796\n",
       "title business             1.128660\n",
       "analyst insurance          1.128262\n",
       "                             ...   \n",
       "areas business             1.047465\n",
       "forward think              1.044501\n",
       "deliver report             1.043302\n",
       "bi consultant              1.043019\n",
       "map analysis               1.042877\n",
       "complex environments       1.041846\n",
       "unparalleled industry      1.041407\n",
       "last years                 1.039821\n",
       "project focus              1.038967\n",
       "strong database            1.038385\n",
       "time frame                 1.037576\n",
       "report key                 1.036589\n",
       "model requirements         1.036546\n",
       "analystbusiness analyst    1.035270\n",
       "life insurance             1.034153\n",
       "big analytics              1.033483\n",
       "train amp                  1.032275\n",
       "help develop               1.031061\n",
       "make sense                 1.030699\n",
       "docx want                  1.029643\n",
       "analytics project          1.029364\n",
       "map current                1.028882\n",
       "practice business          1.025306\n",
       "project responsible        1.024759\n",
       "different source           1.024539\n",
       "enterprise management      1.024483\n",
       "responsible support        1.023166\n",
       "process management         1.022561\n",
       "cloud technologies         1.022155\n",
       "excel powerpoint           1.021619\n",
       "Length: 100, dtype: float64"
      ]
     },
     "execution_count": 1985,
     "metadata": {},
     "output_type": "execute_result"
    }
   ],
   "source": [
    "#use this information to create your own custom words list. remove all the words that are not giving much information by adding them\n",
    "#to stop words\n",
    "#This are the top wordsin each document\n",
    "word_counts = X_vec.sum(axis=0)\n",
    "word_counts.sort_values(ascending = False).head(100)"
   ]
  },
  {
   "cell_type": "code",
   "execution_count": 1986,
   "metadata": {},
   "outputs": [],
   "source": [
    "#define function for test train split\n",
    "def create_test_train_split(X,y):\n",
    "    X_train,X_test,y_train,y_test = train_test_split(X,y,random_state=43,test_size=0.33,shuffle=True)\n",
    "    return X_train,X_test,y_train,y_test"
   ]
  },
  {
   "cell_type": "code",
   "execution_count": 1987,
   "metadata": {},
   "outputs": [],
   "source": [
    "#define a funciton to generate different model results and return test and train score and also cross validated test train score\n",
    "def generate_model_result(model_obj,X,y):\n",
    "    X_train,X_test,y_train,y_test = create_test_train_split(X,y)\n",
    "#    print(X_train.shape,X_test.shape,y_train.shape,y_test.shape)\n",
    "    model = model_obj.fit(X_train,y_train)\n",
    "    training_score = model.score(X_train,y_train)\n",
    "    testing_score = model.score(X_test,y_test)\n",
    "    cv_train_score = np.mean(cross_val_score(model,X_train,y_train,cv=5,n_jobs=3))\n",
    "    cv_test_score = np.mean(cross_val_score(model,X_test,y_test,cv=5,n_jobs=3))\n",
    "    y_pred = model.predict(X_test)\n",
    "    return training_score,testing_score,cv_train_score,cv_test_score,y_pred,y_test"
   ]
  },
  {
   "cell_type": "code",
   "execution_count": 1988,
   "metadata": {},
   "outputs": [],
   "source": [
    "# Logistic regression  model on job desc\n",
    "lr = LogisticRegression(penalty='l2',C=0.5 , random_state=47, n_jobs=3)\n"
   ]
  },
  {
   "cell_type": "code",
   "execution_count": 1989,
   "metadata": {},
   "outputs": [],
   "source": [
    "#call generate_model_result function\n",
    "training_score , testing_score ,cv_train_score,cv_test_score,y_pred,y_test = generate_model_result(lr,X_vec,df_job_data['job_title'])"
   ]
  },
  {
   "cell_type": "code",
   "execution_count": 1990,
   "metadata": {},
   "outputs": [
    {
     "data": {
      "text/plain": [
       "(0.6860643185298622,\n",
       " 0.7027863777089783,\n",
       " 0.6860803697160878,\n",
       " 0.7034109847783414)"
      ]
     },
     "execution_count": 1990,
     "metadata": {},
     "output_type": "execute_result"
    }
   ],
   "source": [
    "#model result\n",
    "training_score, testing_score,cv_train_score,cv_test_score"
   ]
  },
  {
   "cell_type": "code",
   "execution_count": 1991,
   "metadata": {},
   "outputs": [],
   "source": [
    "#define function to generate classification report\n",
    "def genrate_classificatoin_report(y_test,y_pred):\n",
    "    print(classification_report(y_test,y_pred))"
   ]
  },
  {
   "cell_type": "code",
   "execution_count": 1992,
   "metadata": {},
   "outputs": [
    {
     "name": "stdout",
     "output_type": "stream",
     "text": [
      "                       precision    recall  f1-score   support\n",
      "\n",
      "     Business Analyst       0.70      1.00      0.83       227\n",
      "Business Intellegence       0.00      0.00      0.00        33\n",
      "         Data Analyst       0.00      0.00      0.00        38\n",
      "        Data Engineer       0.00      0.00      0.00        12\n",
      "       Data Scientist       0.00      0.00      0.00        13\n",
      "\n",
      "            micro avg       0.70      0.70      0.70       323\n",
      "            macro avg       0.14      0.20      0.17       323\n",
      "         weighted avg       0.49      0.70      0.58       323\n",
      "\n"
     ]
    }
   ],
   "source": [
    "genrate_classificatoin_report(y_test,y_pred)"
   ]
  },
  {
   "cell_type": "code",
   "execution_count": 1993,
   "metadata": {},
   "outputs": [],
   "source": [
    "#define function to generate confusion matrix\n",
    "def generate_confusion_matrix(y_test,y_pred):\n",
    "    cnf_matrix = metrics.confusion_matrix(y_test, y_pred)\n",
    "\n",
    "    fig, ax = plt.subplots()\n",
    "\n",
    "\n",
    "# Create heatmap\n",
    "    sns.heatmap(pd.DataFrame(cnf_matrix,columns=['Business Analyst','Business Intellegence','Data Analyst','Data Engineer','Data Scientist'],\\\n",
    "                             index=['Business Analyst','Business Intellegence','Data Analyst','Data Engineer','Data Scientist']),\\\n",
    "                annot=True, cmap=\"YlGnBu\" ,fmt='g')\n",
    "    ax.xaxis.set_label_position(\"top\")\n",
    "    plt.tight_layout()\n",
    "    plt.title('Confusion matrix', y=1.1)\n",
    "    plt.ylabel('Actual label')\n",
    "    plt.xlabel('Predicted label')"
   ]
  },
  {
   "cell_type": "code",
   "execution_count": 1994,
   "metadata": {},
   "outputs": [
    {
     "data": {
      "image/png": "[encoded data removed]",
      "text/plain": [
       "<Figure size 432x288 with 2 Axes>"
      ]
     },
     "metadata": {
      "needs_background": "light"
     },
     "output_type": "display_data"
    }
   ],
   "source": [
    "generate_confusion_matrix(y_test,y_pred)"
   ]
  },
  {
   "cell_type": "markdown",
   "metadata": {},
   "source": [
    "### Class Imbalance\n",
    "\n",
    "- Above we can see that we have class imbalance and because of that our model is not performing good.\n",
    "- To remove this class imbalance and to improve the performance we can resample the class that has lowe counts"
   ]
  },
  {
   "cell_type": "code",
   "execution_count": 1995,
   "metadata": {},
   "outputs": [],
   "source": [
    "def upsample_class(df_job_data):\n",
    "    df_data_analyst = df_job_data[df_job_data['job_title']=='Data Analyst']\n",
    "    df_business_analyst = df_job_data[df_job_data['job_title']=='Business Analyst']\n",
    "    df_business_intellegence = df_job_data[df_job_data['job_title']=='Business Intellegence']\n",
    "    df_data_engineer = df_job_data[df_job_data['job_title']=='Data Engineer']\n",
    "    df_data_scientist = df_job_data[df_job_data['job_title']=='Data Scientist']\n",
    "    \n",
    "    # Upsample minority class\n",
    "    df_data_analyst_upsampled = resample(df_data_analyst, \n",
    "                                     replace=True,     # sample with replacement\n",
    "                                     n_samples=452,    # to match majority class\n",
    "                                     random_state=123) # reproducible results\n",
    "\n",
    "    df_business_intellegence_upsampled = resample(df_business_intellegence, \n",
    "                                     replace=True,     # sample with replacement\n",
    "                                     n_samples=529,    # to match majority class\n",
    "                                     random_state=123) # reproducible results\n",
    "\n",
    "    df_data_engineer_upsampled = resample(df_data_engineer, \n",
    "                                     replace=True,     # sample with replacement\n",
    "                                     n_samples=480,    # to match majority class\n",
    "                                     random_state=123) # reproducible results\n",
    "\n",
    "    df_data_scientist_upsampled = resample(df_data_scientist, \n",
    "                                     replace=True,     # sample with replacement\n",
    "                                     n_samples=559,    # to match majority class\n",
    "                                     random_state=123) # reproducible results\n",
    "    \n",
    "    df_upsampled = pd.concat([df_business_analyst,df_business_intellegence_upsampled,df_data_analyst_upsampled,\\\n",
    "                         df_data_engineer_upsampled,df_data_scientist_upsampled])\n",
    " \n",
    "    return df_upsampled"
   ]
  },
  {
   "cell_type": "code",
   "execution_count": 1996,
   "metadata": {},
   "outputs": [
    {
     "data": {
      "text/plain": [
       "(976, 5)"
      ]
     },
     "execution_count": 1996,
     "metadata": {},
     "output_type": "execute_result"
    }
   ],
   "source": [
    "df_job_data.shape"
   ]
  },
  {
   "cell_type": "code",
   "execution_count": 1997,
   "metadata": {},
   "outputs": [],
   "source": [
    "df_upsampled = upsample_class(df_job_data)"
   ]
  },
  {
   "cell_type": "code",
   "execution_count": 1998,
   "metadata": {},
   "outputs": [
    {
     "data": {
      "text/plain": [
       "(2695, 5)"
      ]
     },
     "execution_count": 1998,
     "metadata": {},
     "output_type": "execute_result"
    }
   ],
   "source": [
    "df_upsampled.shape"
   ]
  },
  {
   "cell_type": "code",
   "execution_count": 1999,
   "metadata": {},
   "outputs": [],
   "source": [
    "#text preprocessing of upsample data frame\n",
    "X = df_upsampled['job_desc'].apply(lambda x:lemmatize_data(x))"
   ]
  },
  {
   "cell_type": "code",
   "execution_count": 2000,
   "metadata": {},
   "outputs": [],
   "source": [
    "#Tfidf vector for upsample data\n",
    "X_vec,feature_names = create_tfidf_vec(X)"
   ]
  },
  {
   "cell_type": "code",
   "execution_count": 2001,
   "metadata": {},
   "outputs": [
    {
     "data": {
      "text/plain": [
       "(2695, 29281)"
      ]
     },
     "execution_count": 2001,
     "metadata": {},
     "output_type": "execute_result"
    }
   ],
   "source": [
    "X_vec.shape"
   ]
  },
  {
   "cell_type": "code",
   "execution_count": 2002,
   "metadata": {},
   "outputs": [],
   "source": [
    "#define reducedimension function to reduce dimensinality in data\n",
    "def reduce_dimensions(X):\n",
    "    svd = TruncatedSVD(n_components=400)\n",
    "    svd = svd.fit(X)\n",
    "    print(svd.explained_variance_ratio_.sum())\n",
    "    X_reduce_vec = svd.transform(X)\n",
    "    \n",
    "    return X_reduce_vec,svd"
   ]
  },
  {
   "cell_type": "code",
   "execution_count": 2003,
   "metadata": {},
   "outputs": [
    {
     "name": "stdout",
     "output_type": "stream",
     "text": [
      "0.8129040798460436\n"
     ]
    }
   ],
   "source": [
    "# only 400 components out of 29349 components is able to explain 81% variance in data\n",
    "X_reduce_vec,svd = reduce_dimensions(X_vec)"
   ]
  },
  {
   "cell_type": "code",
   "execution_count": 2004,
   "metadata": {},
   "outputs": [
    {
     "data": {
      "text/plain": [
       "(2695, 400)"
      ]
     },
     "execution_count": 2004,
     "metadata": {},
     "output_type": "execute_result"
    }
   ],
   "source": [
    "X_reduce_vec.shape"
   ]
  },
  {
   "cell_type": "code",
   "execution_count": 2005,
   "metadata": {},
   "outputs": [
    {
     "data": {
      "text/plain": [
       "(2695, 29281)"
      ]
     },
     "execution_count": 2005,
     "metadata": {},
     "output_type": "execute_result"
    }
   ],
   "source": [
    "X_vec.shape"
   ]
  },
  {
   "cell_type": "code",
   "execution_count": 2006,
   "metadata": {},
   "outputs": [
    {
     "data": {
      "text/plain": [
       "(2695,)"
      ]
     },
     "execution_count": 2006,
     "metadata": {},
     "output_type": "execute_result"
    }
   ],
   "source": [
    "df_upsampled['job_title'].shape"
   ]
  },
  {
   "cell_type": "markdown",
   "metadata": {},
   "source": [
    "#### Logistic regression to indetify top keywords"
   ]
  },
  {
   "cell_type": "code",
   "execution_count": 2007,
   "metadata": {},
   "outputs": [],
   "source": [
    "#lr = LogisticRegression(penalty='l1',C=1700, random_state=47, n_jobs=3)\n",
    "#lr = LogisticRegression(penalty='l2',C=1700, random_state=47, n_jobs=3)a\n",
    "\n",
    "lr = LogisticRegression(penalty='l1',C=1700, random_state=47, n_jobs=3)\n"
   ]
  },
  {
   "cell_type": "code",
   "execution_count": 2008,
   "metadata": {},
   "outputs": [],
   "source": [
    "training_score , testing_score ,cv_train_score,cv_test_score,y_pred,y_test = generate_model_result(lr,X_reduce_vec,df_upsampled['job_title'])"
   ]
  },
  {
   "cell_type": "code",
   "execution_count": 2009,
   "metadata": {},
   "outputs": [
    {
     "data": {
      "text/plain": [
       "(0.8022160664819945,\n",
       " 0.7820224719101123,\n",
       " 0.7684258963314714,\n",
       " 0.7167471510662459)"
      ]
     },
     "execution_count": 2009,
     "metadata": {},
     "output_type": "execute_result"
    }
   ],
   "source": [
    "#model result\n",
    "training_score , testing_score ,cv_train_score,cv_test_score"
   ]
  },
  {
   "cell_type": "code",
   "execution_count": 2010,
   "metadata": {},
   "outputs": [
    {
     "name": "stdout",
     "output_type": "stream",
     "text": [
      "                       precision    recall  f1-score   support\n",
      "\n",
      "     Business Analyst       0.97      0.98      0.97       199\n",
      "Business Intellegence       0.96      0.73      0.83       192\n",
      "         Data Analyst       0.96      0.90      0.93       145\n",
      "        Data Engineer       1.00      0.25      0.40       165\n",
      "       Data Scientist       0.52      1.00      0.68       189\n",
      "\n",
      "            micro avg       0.78      0.78      0.78       890\n",
      "            macro avg       0.88      0.77      0.76       890\n",
      "         weighted avg       0.87      0.78      0.77       890\n",
      "\n"
     ]
    }
   ],
   "source": [
    "genrate_classificatoin_report(y_test,y_pred)"
   ]
  },
  {
   "cell_type": "code",
   "execution_count": 2011,
   "metadata": {},
   "outputs": [
    {
     "data": {
      "image/png": "[encoded data removed]",
      "text/plain": [
       "<Figure size 432x288 with 2 Axes>"
      ]
     },
     "metadata": {
      "needs_background": "light"
     },
     "output_type": "display_data"
    }
   ],
   "source": [
    "generate_confusion_matrix(y_test,y_pred)"
   ]
  },
  {
   "cell_type": "markdown",
   "metadata": {},
   "source": [
    "#### Randomforest classifier to predict keywords in different category"
   ]
  },
  {
   "cell_type": "code",
   "execution_count": 2012,
   "metadata": {},
   "outputs": [],
   "source": [
    "\n",
    "# forest_clf=RandomForestClassifier(n_estimators=30,max_depth=12,random_state=43,criterion='entropy', \\\n",
    "#                                  max_features=20)\n",
    "forest_clf=RandomForestClassifier(n_estimators=50,max_depth=17,random_state=43,criterion='entropy', \\\n",
    "                                 max_features=30)"
   ]
  },
  {
   "cell_type": "code",
   "execution_count": 2013,
   "metadata": {},
   "outputs": [
    {
     "data": {
      "text/plain": [
       "(2695, 400)"
      ]
     },
     "execution_count": 2013,
     "metadata": {},
     "output_type": "execute_result"
    }
   ],
   "source": [
    "X_reduce_vec.shape"
   ]
  },
  {
   "cell_type": "code",
   "execution_count": 2014,
   "metadata": {},
   "outputs": [],
   "source": [
    "training_score , testing_score ,cv_train_score,cv_test_score,y_pred,y_test = generate_model_result(forest_clf,X_reduce_vec,df_upsampled['job_title'])"
   ]
  },
  {
   "cell_type": "code",
   "execution_count": 2015,
   "metadata": {},
   "outputs": [
    {
     "data": {
      "text/plain": [
       "(0.8022160664819945,\n",
       " 0.7820224719101123,\n",
       " 0.7795032951311203,\n",
       " 0.7470857276550579)"
      ]
     },
     "execution_count": 2015,
     "metadata": {},
     "output_type": "execute_result"
    }
   ],
   "source": [
    "#model result\n",
    "training_score , testing_score ,cv_train_score,cv_test_score"
   ]
  },
  {
   "cell_type": "code",
   "execution_count": 2017,
   "metadata": {},
   "outputs": [
    {
     "name": "stdout",
     "output_type": "stream",
     "text": [
      "                       precision    recall  f1-score   support\n",
      "\n",
      "     Business Analyst       0.94      0.98      0.96       199\n",
      "Business Intellegence       1.00      0.73      0.85       192\n",
      "         Data Analyst       0.94      0.89      0.91       145\n",
      "        Data Engineer       1.00      0.25      0.40       165\n",
      "       Data Scientist       0.52      1.00      0.68       189\n",
      "\n",
      "            micro avg       0.78      0.78      0.78       890\n",
      "            macro avg       0.88      0.77      0.76       890\n",
      "         weighted avg       0.88      0.78      0.77       890\n",
      "\n"
     ]
    }
   ],
   "source": [
    "genrate_classificatoin_report(y_test,y_pred)"
   ]
  },
  {
   "cell_type": "code",
   "execution_count": 1958,
   "metadata": {},
   "outputs": [
    {
     "data": {
      "image/png": "[encoded data removed]",
      "text/plain": [
       "<Figure size 432x288 with 2 Axes>"
      ]
     },
     "metadata": {
      "needs_background": "light"
     },
     "output_type": "display_data"
    }
   ],
   "source": [
    "generate_confusion_matrix(y_test,y_pred)"
   ]
  },
  {
   "cell_type": "code",
   "execution_count": 1704,
   "metadata": {
    "collapsed": true
   },
   "outputs": [
    {
     "data": {
      "text/plain": [
       "sydney finance                     8.000000\n",
       "platform engineer                  4.604967\n",
       "metrics toolkit                    4.041452\n",
       "bring everything                   4.041452\n",
       "system knowledge                   4.041452\n",
       "engineer insights                  2.719768\n",
       "party leader                       2.719768\n",
       "architect big                      2.693772\n",
       "azure architect                    2.693772\n",
       "locate database                    2.645751\n",
       "database successfulin              2.645751\n",
       "mysql aws                          2.645751\n",
       "aws apply                          2.645751\n",
       "developer provide                  2.645751\n",
       "foundation sql                     2.645751\n",
       "strong foundation                  2.645751\n",
       "factory databricks                 2.172679\n",
       "syntax ideally                     2.093810\n",
       "amp rat                            2.093810\n",
       "system responsibilities            2.093810\n",
       "target amp                         2.093810\n",
       "request prove                      2.093810\n",
       "ideally informix                   2.093810\n",
       "informix prove                     2.093810\n",
       "rat system                         2.093810\n",
       "rationalise transport              2.093810\n",
       "sqlssrsss dashboard                2.065591\n",
       "bas bi                             2.065591\n",
       "powerbi apply                      2.065591\n",
       "powerbi integral                   2.065591\n",
       "                                     ...   \n",
       "therapy departmentthe              1.698240\n",
       "statistical reward                 1.698240\n",
       "positionposition requirementswe    1.698240\n",
       "python rproficiency                1.698240\n",
       "analyst neuroscience               1.698240\n",
       "requirementswe seek                1.698240\n",
       "exist enthusiastic                 1.698240\n",
       "health require                     1.698240\n",
       "must demonstratea                  1.698240\n",
       "demonstratea bachelor              1.698240\n",
       "database statistical               1.698240\n",
       "departmentthe austin               1.698240\n",
       "conduct austin                     1.698240\n",
       "rproficiency database              1.698240\n",
       "deliver datawarehouse              1.647444\n",
       "expert report                      1.647444\n",
       "datawarehouse amp                  1.647444\n",
       "wyong client                       1.640495\n",
       "extension wyong                    1.640495\n",
       "developer client                   1.606961\n",
       "responsible assist                 1.600765\n",
       "multiple erps                      1.600765\n",
       "erp set                            1.600765\n",
       "lakes cloud                        1.551330\n",
       "document system                    1.533702\n",
       "national insurance                 1.523043\n",
       "engineer etl                       1.511017\n",
       "want chat                          1.499252\n",
       "schedule strong                    1.499252\n",
       "capabilities integral              1.499252\n",
       "Length: 100, dtype: float64"
      ]
     },
     "execution_count": 1704,
     "metadata": {},
     "output_type": "execute_result"
    }
   ],
   "source": [
    "word_counts = X_vec.sum(axis=0)\n",
    "word_counts.sort_values(ascending = False).head(100)"
   ]
  },
  {
   "cell_type": "code",
   "execution_count": 1959,
   "metadata": {},
   "outputs": [
    {
     "name": "stdout",
     "output_type": "stream",
     "text": [
      "                       precision    recall  f1-score   support\n",
      "\n",
      "     Business Analyst       0.94      0.99      0.97       199\n",
      "Business Intellegence       1.00      0.73      0.85       192\n",
      "         Data Analyst       0.96      0.89      0.92       145\n",
      "        Data Engineer       1.00      0.25      0.40       165\n",
      "       Data Scientist       0.52      1.00      0.68       189\n",
      "\n",
      "            micro avg       0.78      0.78      0.78       890\n",
      "            macro avg       0.88      0.77      0.76       890\n",
      "         weighted avg       0.88      0.78      0.77       890\n",
      "\n"
     ]
    }
   ],
   "source": [
    "genrate_classificatoin_report(y_test,y_pred)"
   ]
  },
  {
   "cell_type": "code",
   "execution_count": 2040,
   "metadata": {},
   "outputs": [],
   "source": [
    "#xgb_model = XGBClassifier(max_depth=10,learning_rate=0.1,n_estimators=10,n_jobs=3)\n"
   ]
  },
  {
   "cell_type": "code",
   "execution_count": null,
   "metadata": {},
   "outputs": [],
   "source": [
    "#training_score , testing_score ,cv_train_score,cv_test_score,y_pred,y_test = generate_model_result(xgb_model,X_vec,df_upsampled['job_title'])"
   ]
  },
  {
   "cell_type": "code",
   "execution_count": null,
   "metadata": {},
   "outputs": [],
   "source": [
    "#training_score , testing_score ,cv_train_score,cv_test_score"
   ]
  },
  {
   "cell_type": "code",
   "execution_count": 1960,
   "metadata": {},
   "outputs": [],
   "source": [
    "## running lr again to take to coeefs to plot top words in each class\n",
    "lr = LogisticRegression(penalty='l1',C=1100, random_state=47, n_jobs=3)\n"
   ]
  },
  {
   "cell_type": "code",
   "execution_count": 1961,
   "metadata": {},
   "outputs": [],
   "source": [
    "training_score , testing_score ,cv_train_score,cv_test_score,y_pred,y_test = generate_model_result(lr,X_vec,df_upsampled['job_title'])"
   ]
  },
  {
   "cell_type": "code",
   "execution_count": 1962,
   "metadata": {},
   "outputs": [],
   "source": [
    "lr_coef_counts = pd.DataFrame(lr.coef_, columns=X_vec.columns, index=['BA','BI', 'DA', 'DE', 'DS']).T"
   ]
  },
  {
   "cell_type": "code",
   "execution_count": 1963,
   "metadata": {},
   "outputs": [
    {
     "data": {
      "image/png": "[encoded data removed]",
      "text/plain": [
       "<Figure size 936x936 with 6 Axes>"
      ]
     },
     "metadata": {
      "needs_background": "light"
     },
     "output_type": "display_data"
    }
   ],
   "source": [
    "fig, ax = plt.subplots(3,2, figsize=(13,13))\n",
    "\n",
    "titles = ['Business Analyst', 'Business Intelligence','Data Analyst', 'Data Engineer', 'Data Scientist']\n",
    "\n",
    "\n",
    "\n",
    "for i, ax in enumerate(ax.flat):\n",
    "    plt.sca(ax)\n",
    "    if i<=4:\n",
    "        col = lr_coef_counts.columns[i]\n",
    "        y = lr_coef_counts[col].sort_values(ascending=False).head(16).index\n",
    "        x = lr_coef_counts[col].sort_values(ascending=False).head(16)\n",
    "        sns.barplot(x=x, y=y, ax=ax)\n",
    "        ax.set_yticklabels(y, fontsize=15)\n",
    "        plt.title(titles[i], fontsize=16)\n",
    "        plt.xlabel('')\n",
    "plt.subplots_adjust(wspace=0.7,hspace=0.7)\n",
    "fig.tight_layout()\n",
    "plt.show()"
   ]
  },
  {
   "cell_type": "code",
   "execution_count": 1755,
   "metadata": {},
   "outputs": [],
   "source": [
    "best_fearures = [feature_names[i] for i in svd.components_[5].argsort()[::-1]]\n"
   ]
  },
  {
   "cell_type": "code",
   "execution_count": 1756,
   "metadata": {},
   "outputs": [
    {
     "data": {
      "text/plain": [
       "['factory databricks',\n",
       " 'sqlssrsss dashboard',\n",
       " 'track selfstarter',\n",
       " 'focus report',\n",
       " 'apply chat',\n",
       " 'require ssrssql',\n",
       " 'build track',\n",
       " 'initially focus',\n",
       " 'scale require',\n",
       " 'selfstarter sqlssrsss',\n",
       " 'developer enterprise',\n",
       " 'ssrssql tableau',\n",
       " 'powerbi integral',\n",
       " 'report bas',\n",
       " 'bas bi',\n",
       " 'powerbi apply',\n",
       " 'validation monitor',\n",
       " 'execution validation',\n",
       " 'monitor improvement',\n",
       " 'implementation execution',\n",
       " 'developer extensions',\n",
       " 'thorough comprehensive',\n",
       " 'sense large',\n",
       " 'biographic target',\n",
       " 'sql verbal',\n",
       " 'engineer bachelor',\n",
       " 'engineer azure',\n",
       " 'industry infrastructure',\n",
       " 'documentation critical',\n",
       " 'research industry',\n",
       " 'provide intelligence',\n",
       " 'domains include',\n",
       " 'move big',\n",
       " 'support network',\n",
       " 'support efforts',\n",
       " 'take complex',\n",
       " 'regional domains',\n",
       " 'efforts support',\n",
       " 'efforts move',\n",
       " 'vulnerability must',\n",
       " 'handson sql',\n",
       " 'analytic customers',\n",
       " 'target vulnerability',\n",
       " 'equivalent spark',\n",
       " 'databricks requirements',\n",
       " 'databricks strong',\n",
       " 'year handson',\n",
       " 'scala thorough',\n",
       " 'scala provide',\n",
       " 'azure spark',\n",
       " 'mine efforts',\n",
       " 'technology biographic',\n",
       " 'collaborative azure',\n",
       " 'network analysis',\n",
       " 'write randstad',\n",
       " 'across regional',\n",
       " 'critical creative',\n",
       " 'deliver datawarehouse',\n",
       " 'datawarehouse amp',\n",
       " 'expert report',\n",
       " 'mart data',\n",
       " 'preferable document',\n",
       " 'model validation',\n",
       " 'problem determine',\n",
       " 'implementation make',\n",
       " 'openpublic data',\n",
       " 'fdw sf',\n",
       " 'strategic analytic',\n",
       " 'preform novel',\n",
       " 'problem context',\n",
       " 'preform big',\n",
       " 'make recommendation',\n",
       " 'mind awareness',\n",
       " 'direction mind',\n",
       " 'model preferable',\n",
       " 'load include',\n",
       " 'knowledge basics',\n",
       " 'acquisition cleanse',\n",
       " 'test experiment',\n",
       " 'around machine',\n",
       " 'modelsrequirements demonstrate',\n",
       " 'firm big',\n",
       " 'develop languages',\n",
       " 'application preform',\n",
       " 'solutions investigate',\n",
       " 'profile munging',\n",
       " 'approach key',\n",
       " 'include independent',\n",
       " 'external sourcestechnical',\n",
       " 'applications analytics',\n",
       " 'acquisition movement',\n",
       " 'extract preform',\n",
       " 'operations load',\n",
       " 'find methods',\n",
       " 'recommend initiate',\n",
       " 'traditional relational',\n",
       " 'traditional sql',\n",
       " 'environments format',\n",
       " 'format knowledge',\n",
       " 'format hadoop',\n",
       " 'environmentsand direction',\n",
       " 'source build',\n",
       " 'equivalent xmtechnology',\n",
       " 'languages environments',\n",
       " 'languages prove',\n",
       " 'source hadoop',\n",
       " 'hadoop fdw',\n",
       " 'hadoop nosql',\n",
       " 'source model',\n",
       " 'improvement analytic',\n",
       " 'source openpublic',\n",
       " 'participate develop',\n",
       " 'nontechnical include',\n",
       " 'investigate recommend',\n",
       " 'nosql etc',\n",
       " 'novel format',\n",
       " 'sourcestechnical approach',\n",
       " 'latest applications',\n",
       " 'execute machine',\n",
       " 'various audiences',\n",
       " 'vendor data',\n",
       " 'experiment code',\n",
       " 'uptodate knowledge',\n",
       " 'leadership technical',\n",
       " 'business approach',\n",
       " 'reusable production',\n",
       " 'initiate acquisition',\n",
       " 'analytics advance',\n",
       " 'policies environmentsand',\n",
       " 'transform mergemutationcalculationaggregationamalgamation',\n",
       " 'analytic solutions',\n",
       " 'context remote',\n",
       " 'movement transform',\n",
       " 'movementtransformation extract',\n",
       " 'independent model',\n",
       " 'include traditional',\n",
       " 'versions scala',\n",
       " 'reusable solutions',\n",
       " 'sf data',\n",
       " 'review big',\n",
       " 'pipelines implement',\n",
       " 'pipeline reusable',\n",
       " 'communicate problem',\n",
       " 'multiple structure',\n",
       " 'multiple versions',\n",
       " 'munging data',\n",
       " 'engineer firm',\n",
       " 'build reusable',\n",
       " 'build strategic',\n",
       " 'build train',\n",
       " 'remote graduate',\n",
       " 'external source',\n",
       " 'data analyze',\n",
       " 'office latest',\n",
       " 'key communicate',\n",
       " 'cleanse profile',\n",
       " 'methods various',\n",
       " 'relational format',\n",
       " 'basics around',\n",
       " 'relate policies',\n",
       " 'data many',\n",
       " 'relate equivalent',\n",
       " 'audiences leadership',\n",
       " 'data movementtransformation',\n",
       " 'python multiple',\n",
       " 'machine modelsrequirements',\n",
       " 'mergemutationcalculationaggregationamalgamation operations',\n",
       " 'data vendor',\n",
       " 'machine test',\n",
       " 'recommendation use',\n",
       " 'identification acquisition',\n",
       " 'awareness data',\n",
       " 'record application',\n",
       " 'question relate',\n",
       " 'tangible outcomes',\n",
       " 'ssas mdm',\n",
       " 'complex bi',\n",
       " 'copy liam',\n",
       " 'relate reference',\n",
       " 'outcomes initial',\n",
       " 'ssas etl',\n",
       " 'modeller develop',\n",
       " 'hold integrate',\n",
       " 'initial hourly',\n",
       " 'chance assist',\n",
       " 'model local',\n",
       " 'ssis consolidate',\n",
       " 'dimensional database',\n",
       " 'compliance analytics',\n",
       " 'package ssis',\n",
       " 'integration compliance',\n",
       " 'email liam',\n",
       " 'liam omearahays',\n",
       " 'offer likely',\n",
       " 'deliver complex',\n",
       " 'return chance',\n",
       " 'extensions etl',\n",
       " 'omeara email',\n",
       " 'mdm integration',\n",
       " 'liam omeara',\n",
       " 'etl integration',\n",
       " 'analytics desirable',\n",
       " 'integrate various',\n",
       " 'etl mdm',\n",
       " 'etl package',\n",
       " 'options youre',\n",
       " 'department small',\n",
       " 'extensions sql',\n",
       " 'integration relational',\n",
       " 'hourly offer',\n",
       " 'warehouse develop',\n",
       " 'project tangible',\n",
       " 'small data',\n",
       " 'succeed ssis',\n",
       " 'omearahays question',\n",
       " 'assist deliver',\n",
       " 'project ssis',\n",
       " 'sydney finance',\n",
       " 'requirements interpret',\n",
       " 'amp translate',\n",
       " 'stakeholders accountable',\n",
       " 'amp shape',\n",
       " 'provide invaluable',\n",
       " 'business major',\n",
       " 'attention offer',\n",
       " 'suite responsibilities',\n",
       " 'insurance presence',\n",
       " 'awardwinning leaders',\n",
       " 'clare garvey',\n",
       " 'intelligence suite',\n",
       " 'requirements specs',\n",
       " 'connect clare',\n",
       " 'techniques prove',\n",
       " 'insurance somebody',\n",
       " 'foster positive',\n",
       " 'somebody subject',\n",
       " 'foundation knowledge',\n",
       " 'analytics roles',\n",
       " 'analytical meticulous',\n",
       " 'effectively requirements',\n",
       " 'purpose subject',\n",
       " 'viceversa stakeholder',\n",
       " 'analytics insurance',\n",
       " 'step data',\n",
       " 'grow seek',\n",
       " 'see impact',\n",
       " 'player insurance',\n",
       " 'consumers effective',\n",
       " 'initiatives sql',\n",
       " 'translate effectively',\n",
       " 'inform bi',\n",
       " 'platform foster',\n",
       " 'somebody able',\n",
       " 'analyst somebody',\n",
       " 'somebody demonstrate',\n",
       " 'prompt connect',\n",
       " 'responsibilities report',\n",
       " 'initiatives somebody',\n",
       " 'leaders provide',\n",
       " 'knowledge variety',\n",
       " 'dashboard foundation',\n",
       " 'specs amp',\n",
       " 'linkedin keep',\n",
       " 'impact youre',\n",
       " 'technical viceversa',\n",
       " 'manipulation data',\n",
       " 'business see',\n",
       " 'key across',\n",
       " 'clarify provide',\n",
       " 'developmaintain data',\n",
       " 'invaluable business',\n",
       " 'industry awardwinning',\n",
       " 'keep inform',\n",
       " 'garvey linkedin',\n",
       " 'requirements developmaintain',\n",
       " 'exceptional clarify',\n",
       " 'accountable functional',\n",
       " 'review documentationability',\n",
       " 'scale technologyabout',\n",
       " 'machine libraries',\n",
       " 'machine platform',\n",
       " 'revolutionise diagnosis',\n",
       " 'scale responsibilitiesbuilding',\n",
       " 'managert moranseermedical',\n",
       " 'seer build',\n",
       " 'build cloudbased',\n",
       " 'machine learningdeploying',\n",
       " 'clinical insights',\n",
       " 'quality automate',\n",
       " 'management neurological',\n",
       " 'build expansion',\n",
       " 'personalise insights',\n",
       " 'personalise clinical',\n",
       " 'improve datadriven',\n",
       " 'consist wearable',\n",
       " 'wearable implantable',\n",
       " 'platform deliver',\n",
       " 'wearable devices',\n",
       " 'expansion roledata',\n",
       " 'experimentsstrong analytical',\n",
       " 'acrosschannels different',\n",
       " 'science prove',\n",
       " 'remote machine',\n",
       " 'experienceexperience cloud',\n",
       " 'member learningdriving',\n",
       " 'python essentiallinux',\n",
       " 'scientist alongside',\n",
       " 'assist detect',\n",
       " 'active member',\n",
       " 'ambiguous problems',\n",
       " 'seizures internal',\n",
       " 'deliver personalise',\n",
       " 'statisticsmin years',\n",
       " 'statistics model',\n",
       " 'ambient wearable',\n",
       " 'deliver deep',\n",
       " 'platform machine',\n",
       " 'dataexperience develop',\n",
       " 'technologiesenthusiasm software',\n",
       " 'excite best',\n",
       " 'already make',\n",
       " 'build maintainable',\n",
       " 'design experimentsstrong',\n",
       " 'cloudextensive python',\n",
       " 'libraries big',\n",
       " 'expert yet',\n",
       " 'network detect',\n",
       " 'compute ideally',\n",
       " 'mathematics statisticsmin',\n",
       " 'neurological condition',\n",
       " 'learningdriving innovation',\n",
       " 'insights ambient',\n",
       " 'essentiallinux docker',\n",
       " 'insights advance',\n",
       " 'degree analytical',\n",
       " 'seer already',\n",
       " 'users scale',\n",
       " 'alongside software',\n",
       " 'learningdeploying machine',\n",
       " 'codeautomating test',\n",
       " 'background levelscontactmoran',\n",
       " 'usseer develop',\n",
       " 'validation algorithmsapply',\n",
       " 'focus epilepsy',\n",
       " 'coast last',\n",
       " 'analytical solve',\n",
       " 'cloudbased machine',\n",
       " 'scientist key',\n",
       " 'internal subject',\n",
       " 'machine cloudextensive',\n",
       " 'awsstrong attention',\n",
       " 'robust systems',\n",
       " 'roledata scientist',\n",
       " 'ideally awsstrong',\n",
       " 'systems core',\n",
       " 'key seer',\n",
       " 'data technologiesenthusiasm',\n",
       " 'kind seer',\n",
       " 'condition special',\n",
       " 'deep personalise',\n",
       " 'advance patient',\n",
       " 'deep neural',\n",
       " 'use dataexperience',\n",
       " 'epilepsy mission',\n",
       " 'set preparation',\n",
       " 'deep model',\n",
       " 'innovation scale',\n",
       " 'innovations provide',\n",
       " 'patient leadingedge',\n",
       " 'insights empower',\n",
       " 'leadingedge technology',\n",
       " 'levelscontactmoran talent',\n",
       " 'test validation',\n",
       " 'solve ambiguous',\n",
       " 'software group',\n",
       " 'technology consist',\n",
       " 'docker git',\n",
       " 'test code',\n",
       " 'diagnostic kind',\n",
       " 'technologyabout youbachelors',\n",
       " 'diagnosis management',\n",
       " 'maintainable robust',\n",
       " 'athome video',\n",
       " 'responsibilitiesbuilding deep',\n",
       " 'practice methods',\n",
       " 'video eeg',\n",
       " 'ecg data',\n",
       " 'provide improve',\n",
       " 'eeg monitor',\n",
       " 'attention detailpassionate',\n",
       " 'documentationability diverse',\n",
       " 'production codeautomating',\n",
       " 'across east',\n",
       " 'core athome',\n",
       " 'monitor diagnostic',\n",
       " 'git experienceexperience',\n",
       " 'devices excite',\n",
       " 'yet collaborate',\n",
       " 'technology revolutionise',\n",
       " 'devices cloud',\n",
       " 'group innovations',\n",
       " 'methods analysis',\n",
       " 'eeg ecg',\n",
       " 'preparation machine',\n",
       " 'acquisition managert',\n",
       " 'model remote',\n",
       " 'develop technology',\n",
       " 'process machine',\n",
       " 'algorithmsapply excite',\n",
       " 'mission deliver',\n",
       " 'detailpassionate build',\n",
       " 'effectively acrosschannels',\n",
       " 'different active',\n",
       " 'detect abnormalities',\n",
       " 'diverse different',\n",
       " 'youbachelors master',\n",
       " 'implantable devices',\n",
       " 'detect seizures',\n",
       " 'analytics science',\n",
       " 'abnormalities eeg',\n",
       " 'responsible assist',\n",
       " 'multiple erps',\n",
       " 'erp set',\n",
       " 'exceptional necessary',\n",
       " 'garner resource',\n",
       " 'dynamic best',\n",
       " 'criteriaa commercial',\n",
       " 'engineer project',\n",
       " 'solutions project',\n",
       " 'sydney expect',\n",
       " 'hdfs hive',\n",
       " 'people treat',\n",
       " 'several industries',\n",
       " 'scala pyspark',\n",
       " 'resource support',\n",
       " 'best requirements',\n",
       " 'years practical',\n",
       " 'kafkacontactronnytheonset auor',\n",
       " 'requirements depth',\n",
       " 'singapore business',\n",
       " 'partner technology',\n",
       " 'technologies asspark',\n",
       " 'project garner',\n",
       " 'variety flexibility',\n",
       " 'business plenty',\n",
       " 'industries highly',\n",
       " 'flexible dynamic',\n",
       " 'focus conceptualise',\n",
       " 'necessary attribute',\n",
       " 'dataish software',\n",
       " 'asspark scala',\n",
       " 'hive kafkacontactronnytheonset',\n",
       " 'get flexible',\n",
       " 'relateability clients',\n",
       " 'conceptualise implement',\n",
       " 'adults youll',\n",
       " 'bench make',\n",
       " 'life significant',\n",
       " 'must criteriaa',\n",
       " 'engineer dataish',\n",
       " 'expect travel',\n",
       " 'occasionally singapore',\n",
       " 'treat like',\n",
       " 'travel occasionally',\n",
       " 'like adults',\n",
       " 'highly relateability',\n",
       " 'challenge exceptional',\n",
       " 'plenty variety',\n",
       " 'depth data',\n",
       " 'pyspark hdfs',\n",
       " 'sense bring',\n",
       " 'flexibility people',\n",
       " 'technology bench',\n",
       " 'attribute technical',\n",
       " 'bring life',\n",
       " 'auor ronny',\n",
       " 'account multiple',\n",
       " 'account supplier',\n",
       " 'item setups',\n",
       " 'term flexible',\n",
       " 'table smartsheet',\n",
       " 'erps price',\n",
       " 'smartsheet sql',\n",
       " 'erps globally',\n",
       " 'system old',\n",
       " 'tram cafes',\n",
       " 'wellknown energetic',\n",
       " 'passionate master',\n",
       " 'supplier account',\n",
       " 'owners functional',\n",
       " 'maintain process',\n",
       " 'detection correction',\n",
       " 'modify customer',\n",
       " 'problems appropriate',\n",
       " 'old unused',\n",
       " 'restaurants master',\n",
       " 'year master',\n",
       " 'oracle pdh',\n",
       " 'integrity master',\n",
       " 'globally master',\n",
       " 'vlookup indexmatch',\n",
       " 'data duplicate',\n",
       " 'skus item',\n",
       " 'appropriate choice',\n",
       " 'management advance',\n",
       " 'data rid',\n",
       " 'indexmatch data',\n",
       " 'energetic passionate',\n",
       " 'erps oracle',\n",
       " 'pivottables vlookup',\n",
       " 'correction conduct',\n",
       " 'ebs knowledge',\n",
       " 'price oracle',\n",
       " 'set modify',\n",
       " 'ebs bachelor',\n",
       " 'prefer year',\n",
       " 'duplicate data',\n",
       " 'data table',\n",
       " 'help resolve',\n",
       " 'rid system',\n",
       " 'unused data',\n",
       " 'quality problems',\n",
       " 'quality help',\n",
       " 'systems maintain',\n",
       " 'across erps',\n",
       " 'close train',\n",
       " 'accuracy integrity',\n",
       " 'inner close',\n",
       " 'office melbournes',\n",
       " 'choice error',\n",
       " 'setups multiple',\n",
       " 'train tram',\n",
       " 'pdh ebs',\n",
       " 'flexible office',\n",
       " 'analysis computer',\n",
       " 'include pivottables',\n",
       " 'functional master',\n",
       " 'set skus',\n",
       " 'ebs legacy',\n",
       " 'come financial',\n",
       " 'environments proactive',\n",
       " 'aws dynamodb',\n",
       " 'apply require',\n",
       " 'directly project',\n",
       " 'project months',\n",
       " 'essential knowledge',\n",
       " 'sector highly',\n",
       " 'competitive rat',\n",
       " 'gather include',\n",
       " 'test frameworks',\n",
       " 'study business',\n",
       " 'education sector',\n",
       " 'technology sydney',\n",
       " 'business model',\n",
       " 'software background',\n",
       " 'withsenior stakeholders',\n",
       " 'project dedicate',\n",
       " 'include web',\n",
       " 'microsoft dynamics',\n",
       " 'managers develop',\n",
       " 'pacific region',\n",
       " 'data heavy',\n",
       " 'range employee',\n",
       " 'employer welcome',\n",
       " 'stakeholder relationship',\n",
       " 'functional requirement',\n",
       " 'best brightest',\n",
       " 'help organisations',\n",
       " 'tool financial',\n",
       " 'document system',\n",
       " 'develop one',\n",
       " 'key aspects',\n",
       " 'prove requirement',\n",
       " 'requirements write',\n",
       " 'regulatory industry',\n",
       " 'analyst multiple',\n",
       " 'identify manage',\n",
       " 'ibm cognos',\n",
       " 'production environments',\n",
       " 'support strong',\n",
       " 'crm similar',\n",
       " 'engagement documentation',\n",
       " 'solid business',\n",
       " 'software project',\n",
       " 'product roadmap',\n",
       " 'analysis background',\n",
       " 'preparation delivery',\n",
       " 'emerge market',\n",
       " 'background abilities',\n",
       " 'ict project',\n",
       " 'mission critical',\n",
       " 'analyst grow',\n",
       " 'dedicate support',\n",
       " 'compliance management',\n",
       " 'migration etl',\n",
       " 'delivery process',\n",
       " 'management develop',\n",
       " 'systems impact',\n",
       " 'brisbane responsible',\n",
       " 'erp crm',\n",
       " 'highprofile program',\n",
       " 'interpersonal build',\n",
       " 'degree information',\n",
       " 'bi dw',\n",
       " 'include microsoft',\n",
       " 'demonstrate decision',\n",
       " 'various tool',\n",
       " 'system critical',\n",
       " 'line project',\n",
       " 'people background',\n",
       " 'systems amp',\n",
       " 'duties support',\n",
       " 'credit risk',\n",
       " 'software solution',\n",
       " 'cost quality',\n",
       " 'compliance policies',\n",
       " 'wed like',\n",
       " 'value care',\n",
       " 'collaborate influence',\n",
       " 'interview asap',\n",
       " 'time cost',\n",
       " 'business side',\n",
       " 'sydney require',\n",
       " 'client one',\n",
       " 'likelihood extension',\n",
       " 'amp degree',\n",
       " 'salary offer',\n",
       " 'travel require',\n",
       " 'amp benefitsjoin',\n",
       " 'systems highly',\n",
       " 'applications perform',\n",
       " 'creative passionate',\n",
       " 'analyse exist',\n",
       " 'market analysis',\n",
       " 'chance part',\n",
       " 'seek engage',\n",
       " 'skilled business',\n",
       " 'point business',\n",
       " 'industry advantageous',\n",
       " 'offer potential',\n",
       " 'eeo employer',\n",
       " 'financial background',\n",
       " 'workshops manage',\n",
       " 'approval process',\n",
       " 'requirements define',\n",
       " 'sprint plan',\n",
       " 'support background',\n",
       " 'financial technical',\n",
       " 'structure analysis',\n",
       " 'improvement project',\n",
       " 'industry seek',\n",
       " 'ba roles',\n",
       " 'project major',\n",
       " 'analysis requirement',\n",
       " 'travel discount',\n",
       " 'capture business',\n",
       " 'compete deadlines',\n",
       " 'activities initiatives',\n",
       " 'structure strong',\n",
       " 'amp microsoft',\n",
       " 'stream business',\n",
       " 'focus write',\n",
       " 'minute walk',\n",
       " 'prepare maintain',\n",
       " 'technical experts',\n",
       " 'analyst design',\n",
       " 'enthusiastic attitude',\n",
       " 'amp user',\n",
       " 'support troubleshoot',\n",
       " 'include software',\n",
       " 'analysis bank',\n",
       " 'adapt ever',\n",
       " 'available client',\n",
       " 'background deliver',\n",
       " 'data collect',\n",
       " 'technical delivery',\n",
       " 'manage technology',\n",
       " 'write functional',\n",
       " 'owner product',\n",
       " 'project amp',\n",
       " 'privacy legislation',\n",
       " 'manage agile',\n",
       " 'knowledge information',\n",
       " 'analyst sql',\n",
       " 'requirements documentation',\n",
       " 'administrative support',\n",
       " 'grow take',\n",
       " 'degree commerce',\n",
       " 'available immediate',\n",
       " 'client mid',\n",
       " 'train station',\n",
       " 'stories part',\n",
       " 'phase project',\n",
       " 'one major',\n",
       " 'transformation seek',\n",
       " 'system improvement',\n",
       " 'expectations provide',\n",
       " 'prove stakeholder',\n",
       " 'sap erp',\n",
       " 'relevant network',\n",
       " 'project document',\n",
       " 'flow large',\n",
       " 'support responsibilities',\n",
       " 'organisations provide',\n",
       " 'use apply',\n",
       " 'previous across',\n",
       " 'amp payments',\n",
       " 'motivate selfstarter',\n",
       " 'journey map',\n",
       " 'market information',\n",
       " 'audit report',\n",
       " 'youll help',\n",
       " 'urgent requirement',\n",
       " 'field years',\n",
       " 'include cover',\n",
       " 'demonstrate capability',\n",
       " 'share options',\n",
       " 'start early',\n",
       " 'clearly identify',\n",
       " 'delivery product',\n",
       " 'expert consultants',\n",
       " 'accordance policy',\n",
       " 'bank client',\n",
       " 'financial client',\n",
       " 'responsibilities document',\n",
       " 'way become',\n",
       " 'education amp',\n",
       " 'staff clients',\n",
       " 'critical project',\n",
       " 'able travel',\n",
       " 'support require',\n",
       " 'individualsteams achieve',\n",
       " 'largest transformation',\n",
       " 'part community',\n",
       " 'depend client',\n",
       " 'significant business',\n",
       " 'strong enterprise',\n",
       " 'inception delivery',\n",
       " 'outcomes identify',\n",
       " 'project brief',\n",
       " 'independently collaboratively',\n",
       " 'temporary full',\n",
       " 'design validate',\n",
       " 'capabilities business',\n",
       " 'current system',\n",
       " 'lean six',\n",
       " 'clear business',\n",
       " 'tool provide',\n",
       " 'identify problems',\n",
       " 'check require',\n",
       " 'historical data',\n",
       " 'support product',\n",
       " 'review prior',\n",
       " 'focus build',\n",
       " 'know apply',\n",
       " 'dynamics crm',\n",
       " 'support systems',\n",
       " 'super per',\n",
       " 'monitor plan',\n",
       " 'business design',\n",
       " 'komal pinterpropeople',\n",
       " 'applications holder',\n",
       " 'start primarily',\n",
       " 'specialist komal',\n",
       " 'komal prabhu',\n",
       " 'prabhu talent',\n",
       " 'holder primarily',\n",
       " 'domo responsibilities',\n",
       " 'sydney asap',\n",
       " 'apply komal',\n",
       " 'acquisition specialist',\n",
       " 'responsible plan',\n",
       " 'issue include',\n",
       " 'finance ba',\n",
       " 'activities operational',\n",
       " 'multiple sit',\n",
       " 'manage activities',\n",
       " 'accountability analysis',\n",
       " 'extensions brisbane',\n",
       " 'management staff',\n",
       " 'use bpmn',\n",
       " 'facilitation workshops',\n",
       " 'epics stories',\n",
       " 'facilitation test',\n",
       " 'variety stakeholders',\n",
       " 'right reference',\n",
       " 'qualifications business',\n",
       " 'across operations',\n",
       " 'corporate database',\n",
       " 'start available',\n",
       " 'include meet',\n",
       " 'across asiapac',\n",
       " 'interest meet',\n",
       " 'brief business',\n",
       " 'governance standards',\n",
       " 'net applications',\n",
       " 'improve product',\n",
       " 'strong analysis',\n",
       " 'data ba',\n",
       " 'quality products',\n",
       " 'financial bank',\n",
       " 'delivery include',\n",
       " 'establish support',\n",
       " 'specify model',\n",
       " 'organise requirements',\n",
       " 'verify information',\n",
       " 'validate verify',\n",
       " 'quality expectations',\n",
       " 'government body',\n",
       " 'health industry',\n",
       " 'initially months',\n",
       " 'allegis group',\n",
       " 'focus microsoft',\n",
       " 'variety initiatives',\n",
       " 'systems include',\n",
       " 'requirements scope',\n",
       " 'essential implementation',\n",
       " 'analyst forward',\n",
       " 'collaboration across',\n",
       " 'open honest',\n",
       " 'feature amp',\n",
       " 'relationships clients',\n",
       " 'government customers',\n",
       " 'analyst opportunities',\n",
       " 'database administrators',\n",
       " 'financial businesses',\n",
       " 'assist write',\n",
       " 'onshore offshore',\n",
       " 'analyst local',\n",
       " 'design enterprise',\n",
       " 'require extensive',\n",
       " 'database lifecycle',\n",
       " 'analyst analysis',\n",
       " 'industry best',\n",
       " 'platform impact',\n",
       " 'functionality platform',\n",
       " 'project sme',\n",
       " 'leader talent',\n",
       " 'collaborate project',\n",
       " 'support production',\n",
       " 'letter outline',\n",
       " 'analysis market',\n",
       " 'product knowledge',\n",
       " 'connect world',\n",
       " 'methodologies practice',\n",
       " 'early june',\n",
       " 'implementation activities',\n",
       " 'proof concepts',\n",
       " 'client reputable',\n",
       " 'excite program',\n",
       " 'implement business',\n",
       " 'systems management',\n",
       " 'roadmap analyse',\n",
       " 'software user',\n",
       " 'manage information',\n",
       " 'perform test',\n",
       " 'developer sydney',\n",
       " 'activities extensive',\n",
       " 'exposure various',\n",
       " 'analytical demonstrate',\n",
       " 'challenge want',\n",
       " 'undergraduate degree',\n",
       " 'amp education',\n",
       " 'date th',\n",
       " 'term relationships',\n",
       " 'high proficiency',\n",
       " 'iaas paas',\n",
       " 'proactive demonstrate',\n",
       " 'technology require',\n",
       " 'care people',\n",
       " 'across variety',\n",
       " 'field least',\n",
       " 'process diagram',\n",
       " 'relevant internal',\n",
       " 'prove organise',\n",
       " 'desirable tertiary',\n",
       " 'want make',\n",
       " 'australias bank',\n",
       " 'rate day',\n",
       " 'number stakeholders',\n",
       " 'contribute quality',\n",
       " 'achieve project',\n",
       " 'certifications babok',\n",
       " 'project roadmap',\n",
       " 'agree objectives',\n",
       " 'consultants deliver',\n",
       " 'product requirements',\n",
       " 'crm microsoft',\n",
       " 'process goals',\n",
       " 'go beyond',\n",
       " 'dba require',\n",
       " 'place people',\n",
       " 'technology landscape',\n",
       " 'recommend optimal',\n",
       " 'inefficiencies recommend',\n",
       " 'firm client',\n",
       " 'business scenarios',\n",
       " 'extensive process',\n",
       " 'deliver tight',\n",
       " 'aimee goff',\n",
       " 'design define',\n",
       " 'optimal business',\n",
       " 'deliverables timely',\n",
       " 'businesses people',\n",
       " 'experts translate',\n",
       " 'business able',\n",
       " 'integration ssis',\n",
       " 'server integration',\n",
       " 'financial process',\n",
       " 'decision makers',\n",
       " 'wholly subsidiary',\n",
       " 'traceability matrix',\n",
       " 'strong documentation',\n",
       " 'highly respect',\n",
       " 'provide status',\n",
       " 'sql report',\n",
       " 'desire make',\n",
       " 'reach potential',\n",
       " 'desirable information',\n",
       " 'clients many',\n",
       " 'analyst daily',\n",
       " 'applications project',\n",
       " 'develop functional',\n",
       " 'field business',\n",
       " 'desirable prior',\n",
       " 'techniques demonstrate',\n",
       " 'perform impact',\n",
       " 'must deep',\n",
       " 'systems solutions',\n",
       " 'payroll rostering',\n",
       " 'tool information',\n",
       " 'rate offer',\n",
       " 'performance issue',\n",
       " 'ict system',\n",
       " 'technology provider',\n",
       " 'infrastructure application',\n",
       " 'fixedterm fulltime',\n",
       " 'advance database',\n",
       " 'data concepts',\n",
       " 'administration support',\n",
       " 'management financial',\n",
       " 'duties responsibilities',\n",
       " 'analysis gap',\n",
       " 'project review',\n",
       " 'issue prove',\n",
       " 'business document',\n",
       " 'prioritise manage',\n",
       " 'facilitate analysis',\n",
       " 'scenarios business',\n",
       " 'maintain knowledge',\n",
       " 'get grind',\n",
       " 'full resume',\n",
       " 'engage large',\n",
       " 'people around',\n",
       " 'creation user',\n",
       " 'offer right',\n",
       " 'implementation system',\n",
       " 'write stories',\n",
       " 'fund manage',\n",
       " 'plan solutions',\n",
       " 'atlassian toolset',\n",
       " 'toolset jira',\n",
       " 'engagement amp',\n",
       " 'commerce business',\n",
       " 'proficiency microsoft',\n",
       " 'years require',\n",
       " 'grow market',\n",
       " 'finance previous',\n",
       " 'letter address',\n",
       " 'analyst must',\n",
       " 'options train',\n",
       " 'document write',\n",
       " 'analyst credit',\n",
       " 'analyst asset',\n",
       " 'manage demand',\n",
       " 'management delivery',\n",
       " 'roleour client',\n",
       " 'qualifications across',\n",
       " 'desirable relevant',\n",
       " 'years specific',\n",
       " 'align engagement',\n",
       " 'always availability',\n",
       " 'delivery endtoend',\n",
       " 'large technology',\n",
       " 'client leader',\n",
       " 'today secure',\n",
       " 'project participate',\n",
       " 'agile ceremonies',\n",
       " 'document analyse',\n",
       " 'developer help',\n",
       " 'clearance highly',\n",
       " 'recently undergo',\n",
       " 'process previous',\n",
       " 'responsibilities support',\n",
       " 'skilled database',\n",
       " 'rule acceptance',\n",
       " 'hr payroll',\n",
       " 'highly desire',\n",
       " 'determine plan',\n",
       " 'stories functional',\n",
       " ...]"
      ]
     },
     "execution_count": 1756,
     "metadata": {},
     "output_type": "execute_result"
    }
   ],
   "source": [
    "best_fearures"
   ]
  },
  {
   "cell_type": "code",
   "execution_count": null,
   "metadata": {},
   "outputs": [],
   "source": []
  },
  {
   "cell_type": "code",
   "execution_count": null,
   "metadata": {},
   "outputs": [],
   "source": []
  }
 ],
 "metadata": {
  "kernelspec": {
   "display_name": "Python 3",
   "language": "python",
   "name": "python3"
  },
  "language_info": {
   "codemirror_mode": {
    "name": "ipython",
    "version": 3
   },
   "file_extension": ".py",
   "mimetype": "text/x-python",
   "name": "python",
   "nbconvert_exporter": "python",
   "pygments_lexer": "ipython3",
   "version": "3.7.3"
  }
 },
 "nbformat": 4,
 "nbformat_minor": 2
}
